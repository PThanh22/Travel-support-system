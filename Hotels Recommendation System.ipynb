{
 "cells": [
  {
   "cell_type": "markdown",
   "metadata": {
    "id": "V11tiprMtAWA"
   },
   "source": [
    "Họ và tên: Phạm Đức Thể\n",
    "\n",
    "MSSV: 19522253\n",
    "\n",
    "Lớp: DS300.N11\n",
    "\n",
    "FINAL PROJECT - 18/11/2022\n",
    "\n",
    "[![Open In Colab](https://colab.research.google.com/assets/colab-badge.svg)](https://colab.research.google.com/drive/1eK3n3PGZi29nLARx41dhts7JveC8Zf6T?usp=sharing)"
   ]
  },
  {
   "cell_type": "markdown",
   "metadata": {
    "id": "hynUB1JasmJe"
   },
   "source": [
    "# **FINAL PROJECT - BOOKING RECOMMENDATION SYSTEM**"
   ]
  },
  {
   "cell_type": "markdown",
   "metadata": {
    "id": "MuYdZPHm5XcP"
   },
   "source": [
    "## **Import libraries**"
   ]
  },
  {
   "cell_type": "code",
   "execution_count": 2,
   "metadata": {
    "colab": {
     "base_uri": "https://localhost:8080/"
    },
    "executionInfo": {
     "elapsed": 3251,
     "status": "ok",
     "timestamp": 1671502647725,
     "user": {
      "displayName": "Thể Phạm Đức",
      "userId": "09005724978234100310"
     },
     "user_tz": -420
    },
    "id": "iuhucgYHPDWC",
    "outputId": "78d4ce8f-383f-4bce-a676-aca3384096aa"
   },
   "outputs": [
    {
     "name": "stderr",
     "output_type": "stream",
     "text": [
      "[nltk_data] Downloading package stopwords to\n",
      "[nltk_data]     /Users/phuongthanh/nltk_data...\n",
      "[nltk_data]   Package stopwords is already up-to-date!\n",
      "[nltk_data] Downloading package punkt to\n",
      "[nltk_data]     /Users/phuongthanh/nltk_data...\n",
      "[nltk_data]   Package punkt is already up-to-date!\n"
     ]
    }
   ],
   "source": [
    "import pandas as pd\n",
    "import numpy as np\n",
    "import math\n",
    "import matplotlib.pyplot as plt\n",
    "import seaborn as sns\n",
    "import requests\n",
    "import re\n",
    "import time\n",
    "import datetime\n",
    "import random\n",
    "import nltk\n",
    "nltk.download('stopwords')\n",
    "nltk.download('punkt')\n",
    "\n",
    "\n",
    "from tqdm import tqdm\n",
    "from bs4 import BeautifulSoup\n",
    "from sklearn.metrics.pairwise import cosine_similarity\n",
    "from numpy.linalg import norm\n",
    "from numpy import dot\n",
    "from numpy import sqrt\n",
    "from sklearn.feature_extraction.text import TfidfVectorizer\n",
    "from sklearn.metrics.pairwise import linear_kernel\n",
    "from nltk.corpus import stopwords\n",
    "from nltk.tokenize import word_tokenize\n",
    "from sklearn.model_selection import train_test_split\n",
    "from sklearn.metrics import mean_squared_error, mean_absolute_error\n",
    "\n",
    "sns.set()"
   ]
  },
  {
   "cell_type": "code",
   "execution_count": 3,
   "metadata": {
    "id": "Q2s1uudhPJeJ"
   },
   "outputs": [],
   "source": [
    "PATH ='/Users/phuongthanh/Project/DS300.N11-Recommendation-System-main/Final_Project/data/'\n",
    "LOCATION = ['Đà Lạt', 'Hà Nội', 'TP. Hồ Chí Minh', 'Vũng Tàu', 'Đà Nẵng', 'Phú Quốc', 'Hội An', 'Nha Trang', 'Sa Pa', 'Huế']"
   ]
  },
  {
   "cell_type": "markdown",
   "metadata": {
    "id": "aQKQZzpFvxMj"
   },
   "source": [
    "## **Read dataset**"
   ]
  },
  {
   "cell_type": "code",
   "execution_count": 4,
   "metadata": {
    "colab": {
     "base_uri": "https://localhost:8080/",
     "height": 641
    },
    "executionInfo": {
     "elapsed": 3627,
     "status": "ok",
     "timestamp": 1671502651328,
     "user": {
      "displayName": "Thể Phạm Đức",
      "userId": "09005724978234100310"
     },
     "user_tz": -420
    },
    "id": "mZ2MYwQA3Znp",
    "outputId": "b5604885-4e63-45cd-d460-3b869127794a"
   },
   "outputs": [
    {
     "data": {
      "text/html": [
       "<div>\n",
       "<style scoped>\n",
       "    .dataframe tbody tr th:only-of-type {\n",
       "        vertical-align: middle;\n",
       "    }\n",
       "\n",
       "    .dataframe tbody tr th {\n",
       "        vertical-align: top;\n",
       "    }\n",
       "\n",
       "    .dataframe thead th {\n",
       "        text-align: right;\n",
       "    }\n",
       "</style>\n",
       "<table border=\"1\" class=\"dataframe\">\n",
       "  <thead>\n",
       "    <tr style=\"text-align: right;\">\n",
       "      <th></th>\n",
       "      <th>URL Hotel</th>\n",
       "      <th>Location</th>\n",
       "      <th>HotelID</th>\n",
       "      <th>Name Hotel</th>\n",
       "      <th>Descriptions</th>\n",
       "      <th>Address</th>\n",
       "      <th>UserID</th>\n",
       "      <th>User</th>\n",
       "      <th>Rating</th>\n",
       "    </tr>\n",
       "  </thead>\n",
       "  <tbody>\n",
       "    <tr>\n",
       "      <th>0</th>\n",
       "      <td>https://www.booking.com/hotel/vn/dalat-wind.vi...</td>\n",
       "      <td>Đà Lạt</td>\n",
       "      <td>4064</td>\n",
       "      <td>Dalat Wind Deluxe Hotel</td>\n",
       "      <td>Tọa lạc tại thành phố Đà Lạt, cách Hồ Xuân Hươ...</td>\n",
       "      <td>Lot R2 03-04. Golf Valley, Ward 2, Đà Lạt, Viê...</td>\n",
       "      <td>1187</td>\n",
       "      <td>Thảo</td>\n",
       "      <td>6</td>\n",
       "    </tr>\n",
       "    <tr>\n",
       "      <th>1</th>\n",
       "      <td>https://www.booking.com/hotel/vn/dalat-wind.vi...</td>\n",
       "      <td>Đà Lạt</td>\n",
       "      <td>4064</td>\n",
       "      <td>Dalat Wind Deluxe Hotel</td>\n",
       "      <td>Tọa lạc tại thành phố Đà Lạt, cách Hồ Xuân Hươ...</td>\n",
       "      <td>Lot R2 03-04. Golf Valley, Ward 2, Đà Lạt, Viê...</td>\n",
       "      <td>1284</td>\n",
       "      <td>Tran</td>\n",
       "      <td>5</td>\n",
       "    </tr>\n",
       "    <tr>\n",
       "      <th>2</th>\n",
       "      <td>https://www.booking.com/hotel/vn/dalat-wind.vi...</td>\n",
       "      <td>Đà Lạt</td>\n",
       "      <td>4064</td>\n",
       "      <td>Dalat Wind Deluxe Hotel</td>\n",
       "      <td>Tọa lạc tại thành phố Đà Lạt, cách Hồ Xuân Hươ...</td>\n",
       "      <td>Lot R2 03-04. Golf Valley, Ward 2, Đà Lạt, Viê...</td>\n",
       "      <td>5866</td>\n",
       "      <td>Tho</td>\n",
       "      <td>6</td>\n",
       "    </tr>\n",
       "    <tr>\n",
       "      <th>3</th>\n",
       "      <td>https://www.booking.com/hotel/vn/dalat-wind.vi...</td>\n",
       "      <td>Đà Lạt</td>\n",
       "      <td>4064</td>\n",
       "      <td>Dalat Wind Deluxe Hotel</td>\n",
       "      <td>Tọa lạc tại thành phố Đà Lạt, cách Hồ Xuân Hươ...</td>\n",
       "      <td>Lot R2 03-04. Golf Valley, Ward 2, Đà Lạt, Viê...</td>\n",
       "      <td>3033</td>\n",
       "      <td>Tuan</td>\n",
       "      <td>9</td>\n",
       "    </tr>\n",
       "    <tr>\n",
       "      <th>4</th>\n",
       "      <td>https://www.booking.com/hotel/vn/dalat-wind.vi...</td>\n",
       "      <td>Đà Lạt</td>\n",
       "      <td>4064</td>\n",
       "      <td>Dalat Wind Deluxe Hotel</td>\n",
       "      <td>Tọa lạc tại thành phố Đà Lạt, cách Hồ Xuân Hươ...</td>\n",
       "      <td>Lot R2 03-04. Golf Valley, Ward 2, Đà Lạt, Viê...</td>\n",
       "      <td>1406</td>\n",
       "      <td>Phan</td>\n",
       "      <td>7</td>\n",
       "    </tr>\n",
       "    <tr>\n",
       "      <th>...</th>\n",
       "      <td>...</td>\n",
       "      <td>...</td>\n",
       "      <td>...</td>\n",
       "      <td>...</td>\n",
       "      <td>...</td>\n",
       "      <td>...</td>\n",
       "      <td>...</td>\n",
       "      <td>...</td>\n",
       "      <td>...</td>\n",
       "    </tr>\n",
       "    <tr>\n",
       "      <th>38796</th>\n",
       "      <td>https://www.booking.com/hotel/vn/littleboss.vi...</td>\n",
       "      <td>Huế</td>\n",
       "      <td>135</td>\n",
       "      <td>LittleBoss</td>\n",
       "      <td>Căn hộ có TV màn hình phẳng. Căn hộ nằm trong...</td>\n",
       "      <td>The Manor Crown Đường Tố Hữu, TP Huêa, Huế, Vi...</td>\n",
       "      <td>2190</td>\n",
       "      <td>Linh</td>\n",
       "      <td>6</td>\n",
       "    </tr>\n",
       "    <tr>\n",
       "      <th>38797</th>\n",
       "      <td>https://www.booking.com/hotel/vn/littleboss.vi...</td>\n",
       "      <td>Huế</td>\n",
       "      <td>135</td>\n",
       "      <td>LittleBoss</td>\n",
       "      <td>Căn hộ có TV màn hình phẳng. Căn hộ nằm trong...</td>\n",
       "      <td>The Manor Crown Đường Tố Hữu, TP Huêa, Huế, Vi...</td>\n",
       "      <td>1530</td>\n",
       "      <td>Anh</td>\n",
       "      <td>9</td>\n",
       "    </tr>\n",
       "    <tr>\n",
       "      <th>38798</th>\n",
       "      <td>https://www.booking.com/hotel/vn/littleboss.vi...</td>\n",
       "      <td>Huế</td>\n",
       "      <td>135</td>\n",
       "      <td>LittleBoss</td>\n",
       "      <td>Căn hộ có TV màn hình phẳng. Căn hộ nằm trong...</td>\n",
       "      <td>The Manor Crown Đường Tố Hữu, TP Huêa, Huế, Vi...</td>\n",
       "      <td>1308</td>\n",
       "      <td>Phong</td>\n",
       "      <td>7</td>\n",
       "    </tr>\n",
       "    <tr>\n",
       "      <th>38799</th>\n",
       "      <td>https://www.booking.com/hotel/vn/littleboss.vi...</td>\n",
       "      <td>Huế</td>\n",
       "      <td>135</td>\n",
       "      <td>LittleBoss</td>\n",
       "      <td>Căn hộ có TV màn hình phẳng. Căn hộ nằm trong...</td>\n",
       "      <td>The Manor Crown Đường Tố Hữu, TP Huêa, Huế, Vi...</td>\n",
       "      <td>6009</td>\n",
       "      <td>Hạnh</td>\n",
       "      <td>6</td>\n",
       "    </tr>\n",
       "    <tr>\n",
       "      <th>38800</th>\n",
       "      <td>https://www.booking.com/hotel/vn/littleboss.vi...</td>\n",
       "      <td>Huế</td>\n",
       "      <td>135</td>\n",
       "      <td>LittleBoss</td>\n",
       "      <td>Căn hộ có TV màn hình phẳng. Căn hộ nằm trong...</td>\n",
       "      <td>The Manor Crown Đường Tố Hữu, TP Huêa, Huế, Vi...</td>\n",
       "      <td>5564</td>\n",
       "      <td>Hiền</td>\n",
       "      <td>8</td>\n",
       "    </tr>\n",
       "  </tbody>\n",
       "</table>\n",
       "<p>38801 rows × 9 columns</p>\n",
       "</div>"
      ],
      "text/plain": [
       "                                               URL Hotel Location  HotelID  \\\n",
       "0      https://www.booking.com/hotel/vn/dalat-wind.vi...   Đà Lạt     4064   \n",
       "1      https://www.booking.com/hotel/vn/dalat-wind.vi...   Đà Lạt     4064   \n",
       "2      https://www.booking.com/hotel/vn/dalat-wind.vi...   Đà Lạt     4064   \n",
       "3      https://www.booking.com/hotel/vn/dalat-wind.vi...   Đà Lạt     4064   \n",
       "4      https://www.booking.com/hotel/vn/dalat-wind.vi...   Đà Lạt     4064   \n",
       "...                                                  ...      ...      ...   \n",
       "38796  https://www.booking.com/hotel/vn/littleboss.vi...      Huế      135   \n",
       "38797  https://www.booking.com/hotel/vn/littleboss.vi...      Huế      135   \n",
       "38798  https://www.booking.com/hotel/vn/littleboss.vi...      Huế      135   \n",
       "38799  https://www.booking.com/hotel/vn/littleboss.vi...      Huế      135   \n",
       "38800  https://www.booking.com/hotel/vn/littleboss.vi...      Huế      135   \n",
       "\n",
       "                    Name Hotel  \\\n",
       "0      Dalat Wind Deluxe Hotel   \n",
       "1      Dalat Wind Deluxe Hotel   \n",
       "2      Dalat Wind Deluxe Hotel   \n",
       "3      Dalat Wind Deluxe Hotel   \n",
       "4      Dalat Wind Deluxe Hotel   \n",
       "...                        ...   \n",
       "38796               LittleBoss   \n",
       "38797               LittleBoss   \n",
       "38798               LittleBoss   \n",
       "38799               LittleBoss   \n",
       "38800               LittleBoss   \n",
       "\n",
       "                                            Descriptions  \\\n",
       "0      Tọa lạc tại thành phố Đà Lạt, cách Hồ Xuân Hươ...   \n",
       "1      Tọa lạc tại thành phố Đà Lạt, cách Hồ Xuân Hươ...   \n",
       "2      Tọa lạc tại thành phố Đà Lạt, cách Hồ Xuân Hươ...   \n",
       "3      Tọa lạc tại thành phố Đà Lạt, cách Hồ Xuân Hươ...   \n",
       "4      Tọa lạc tại thành phố Đà Lạt, cách Hồ Xuân Hươ...   \n",
       "...                                                  ...   \n",
       "38796  Căn hộ có TV màn hình phẳng. Căn hộ nằm trong...   \n",
       "38797  Căn hộ có TV màn hình phẳng. Căn hộ nằm trong...   \n",
       "38798  Căn hộ có TV màn hình phẳng. Căn hộ nằm trong...   \n",
       "38799  Căn hộ có TV màn hình phẳng. Căn hộ nằm trong...   \n",
       "38800  Căn hộ có TV màn hình phẳng. Căn hộ nằm trong...   \n",
       "\n",
       "                                                 Address  UserID   User  \\\n",
       "0      Lot R2 03-04. Golf Valley, Ward 2, Đà Lạt, Viê...    1187   Thảo   \n",
       "1      Lot R2 03-04. Golf Valley, Ward 2, Đà Lạt, Viê...    1284   Tran   \n",
       "2      Lot R2 03-04. Golf Valley, Ward 2, Đà Lạt, Viê...    5866    Tho   \n",
       "3      Lot R2 03-04. Golf Valley, Ward 2, Đà Lạt, Viê...    3033   Tuan   \n",
       "4      Lot R2 03-04. Golf Valley, Ward 2, Đà Lạt, Viê...    1406   Phan   \n",
       "...                                                  ...     ...    ...   \n",
       "38796  The Manor Crown Đường Tố Hữu, TP Huêa, Huế, Vi...    2190   Linh   \n",
       "38797  The Manor Crown Đường Tố Hữu, TP Huêa, Huế, Vi...    1530    Anh   \n",
       "38798  The Manor Crown Đường Tố Hữu, TP Huêa, Huế, Vi...    1308  Phong   \n",
       "38799  The Manor Crown Đường Tố Hữu, TP Huêa, Huế, Vi...    6009   Hạnh   \n",
       "38800  The Manor Crown Đường Tố Hữu, TP Huêa, Huế, Vi...    5564   Hiền   \n",
       "\n",
       "       Rating  \n",
       "0           6  \n",
       "1           5  \n",
       "2           6  \n",
       "3           9  \n",
       "4           7  \n",
       "...       ...  \n",
       "38796       6  \n",
       "38797       9  \n",
       "38798       7  \n",
       "38799       6  \n",
       "38800       8  \n",
       "\n",
       "[38801 rows x 9 columns]"
      ]
     },
     "execution_count": 4,
     "metadata": {},
     "output_type": "execute_result"
    }
   ],
   "source": [
    "ratings = pd.read_csv('hotels_users_ratings.csv')\n",
    "ratings"
   ]
  },
  {
   "cell_type": "code",
   "execution_count": 5,
   "metadata": {
    "colab": {
     "base_uri": "https://localhost:8080/",
     "height": 519
    },
    "executionInfo": {
     "elapsed": 495,
     "status": "ok",
     "timestamp": 1671502722692,
     "user": {
      "displayName": "Thể Phạm Đức",
      "userId": "09005724978234100310"
     },
     "user_tz": -420
    },
    "id": "7oLNbpSS49lo",
    "outputId": "8f0dfb3b-b4c6-4dde-8cb4-d28262fe904e"
   },
   "outputs": [
    {
     "data": {
      "image/png": "[encoded data removed]",
      "text/plain": [
       "<Figure size 1200x800 with 1 Axes>"
      ]
     },
     "metadata": {},
     "output_type": "display_data"
    }
   ],
   "source": [
    "plt.figure(figsize=(12, 8))\n",
    "sns.countplot(x=ratings[\"Rating\"])\n",
    "\n",
    "plt.xlabel('Ratings', fontsize=22, fontfamily='serif')\n",
    "plt.ylabel('Count', fontsize=22, fontfamily='serif')\n",
    "\n",
    "plt.xticks(fontsize=18, fontfamily='serif')\n",
    "plt.yticks(fontsize=18, fontfamily='serif')\n",
    "\n",
    "plt.show()"
   ]
  },
  {
   "cell_type": "code",
   "execution_count": 6,
   "metadata": {
    "colab": {
     "base_uri": "https://localhost:8080/",
     "height": 1000
    },
    "executionInfo": {
     "elapsed": 2340,
     "status": "ok",
     "timestamp": 1670978192699,
     "user": {
      "displayName": "Thể Phạm Đức",
      "userId": "09005724978234100310"
     },
     "user_tz": -420
    },
    "id": "9-5WrRuWNr5k",
    "outputId": "6f38f8b4-9a5e-49b0-eed8-dd5edeeaca85"
   },
   "outputs": [
    {
     "data": {
      "text/html": [
       "<div>\n",
       "<style scoped>\n",
       "    .dataframe tbody tr th:only-of-type {\n",
       "        vertical-align: middle;\n",
       "    }\n",
       "\n",
       "    .dataframe tbody tr th {\n",
       "        vertical-align: top;\n",
       "    }\n",
       "\n",
       "    .dataframe thead th {\n",
       "        text-align: right;\n",
       "    }\n",
       "</style>\n",
       "<table border=\"1\" class=\"dataframe\">\n",
       "  <thead>\n",
       "    <tr style=\"text-align: right;\">\n",
       "      <th></th>\n",
       "      <th>URL Hotel</th>\n",
       "      <th>Location</th>\n",
       "      <th>User</th>\n",
       "      <th>HotelID</th>\n",
       "      <th>Name Hotel</th>\n",
       "      <th>Descriptions</th>\n",
       "      <th>Rating</th>\n",
       "      <th>Address</th>\n",
       "      <th>UserID</th>\n",
       "    </tr>\n",
       "  </thead>\n",
       "  <tbody>\n",
       "    <tr>\n",
       "      <th>0</th>\n",
       "      <td>https://www.booking.com/hotel/vn/dalat-wind.vi...</td>\n",
       "      <td>Đà Lạt</td>\n",
       "      <td>Thảo</td>\n",
       "      <td>2064</td>\n",
       "      <td>Dalat Wind Deluxe Hotel</td>\n",
       "      <td>Tọa lạc tại thành phố Đà Lạt, cách Hồ Xuân Hươ...</td>\n",
       "      <td>6</td>\n",
       "      <td>Lot R2 03-04. Golf Valley, Ward 2, Đà Lạt, Viê...</td>\n",
       "      <td>5865</td>\n",
       "    </tr>\n",
       "    <tr>\n",
       "      <th>1</th>\n",
       "      <td>https://www.booking.com/hotel/vn/dalat-wind.vi...</td>\n",
       "      <td>Đà Lạt</td>\n",
       "      <td>Tran</td>\n",
       "      <td>2064</td>\n",
       "      <td>Dalat Wind Deluxe Hotel</td>\n",
       "      <td>Tọa lạc tại thành phố Đà Lạt, cách Hồ Xuân Hươ...</td>\n",
       "      <td>5</td>\n",
       "      <td>Lot R2 03-04. Golf Valley, Ward 2, Đà Lạt, Viê...</td>\n",
       "      <td>5978</td>\n",
       "    </tr>\n",
       "    <tr>\n",
       "      <th>2</th>\n",
       "      <td>https://www.booking.com/hotel/vn/dalat-wind.vi...</td>\n",
       "      <td>Đà Lạt</td>\n",
       "      <td>Tho</td>\n",
       "      <td>2064</td>\n",
       "      <td>Dalat Wind Deluxe Hotel</td>\n",
       "      <td>Tọa lạc tại thành phố Đà Lạt, cách Hồ Xuân Hươ...</td>\n",
       "      <td>6</td>\n",
       "      <td>Lot R2 03-04. Golf Valley, Ward 2, Đà Lạt, Viê...</td>\n",
       "      <td>5002</td>\n",
       "    </tr>\n",
       "    <tr>\n",
       "      <th>3</th>\n",
       "      <td>https://www.booking.com/hotel/vn/dalat-wind.vi...</td>\n",
       "      <td>Đà Lạt</td>\n",
       "      <td>Tuan</td>\n",
       "      <td>2064</td>\n",
       "      <td>Dalat Wind Deluxe Hotel</td>\n",
       "      <td>Tọa lạc tại thành phố Đà Lạt, cách Hồ Xuân Hươ...</td>\n",
       "      <td>9</td>\n",
       "      <td>Lot R2 03-04. Golf Valley, Ward 2, Đà Lạt, Viê...</td>\n",
       "      <td>1607</td>\n",
       "    </tr>\n",
       "    <tr>\n",
       "      <th>4</th>\n",
       "      <td>https://www.booking.com/hotel/vn/dalat-wind.vi...</td>\n",
       "      <td>Đà Lạt</td>\n",
       "      <td>Phan</td>\n",
       "      <td>2064</td>\n",
       "      <td>Dalat Wind Deluxe Hotel</td>\n",
       "      <td>Tọa lạc tại thành phố Đà Lạt, cách Hồ Xuân Hươ...</td>\n",
       "      <td>7</td>\n",
       "      <td>Lot R2 03-04. Golf Valley, Ward 2, Đà Lạt, Viê...</td>\n",
       "      <td>2035</td>\n",
       "    </tr>\n",
       "    <tr>\n",
       "      <th>...</th>\n",
       "      <td>...</td>\n",
       "      <td>...</td>\n",
       "      <td>...</td>\n",
       "      <td>...</td>\n",
       "      <td>...</td>\n",
       "      <td>...</td>\n",
       "      <td>...</td>\n",
       "      <td>...</td>\n",
       "      <td>...</td>\n",
       "    </tr>\n",
       "    <tr>\n",
       "      <th>38796</th>\n",
       "      <td>https://www.booking.com/hotel/vn/littleboss.vi...</td>\n",
       "      <td>Huế</td>\n",
       "      <td>Linh</td>\n",
       "      <td>1102</td>\n",
       "      <td>LittleBoss</td>\n",
       "      <td>Căn hộ có TV màn hình phẳng. Căn hộ nằm trong...</td>\n",
       "      <td>6</td>\n",
       "      <td>The Manor Crown Đường Tố Hữu, TP Huêa, Huế, Vi...</td>\n",
       "      <td>6412</td>\n",
       "    </tr>\n",
       "    <tr>\n",
       "      <th>38797</th>\n",
       "      <td>https://www.booking.com/hotel/vn/littleboss.vi...</td>\n",
       "      <td>Huế</td>\n",
       "      <td>Anh</td>\n",
       "      <td>1102</td>\n",
       "      <td>LittleBoss</td>\n",
       "      <td>Căn hộ có TV màn hình phẳng. Căn hộ nằm trong...</td>\n",
       "      <td>9</td>\n",
       "      <td>The Manor Crown Đường Tố Hữu, TP Huêa, Huế, Vi...</td>\n",
       "      <td>1557</td>\n",
       "    </tr>\n",
       "    <tr>\n",
       "      <th>38798</th>\n",
       "      <td>https://www.booking.com/hotel/vn/littleboss.vi...</td>\n",
       "      <td>Huế</td>\n",
       "      <td>Phong</td>\n",
       "      <td>1102</td>\n",
       "      <td>LittleBoss</td>\n",
       "      <td>Căn hộ có TV màn hình phẳng. Căn hộ nằm trong...</td>\n",
       "      <td>7</td>\n",
       "      <td>The Manor Crown Đường Tố Hữu, TP Huêa, Huế, Vi...</td>\n",
       "      <td>4129</td>\n",
       "    </tr>\n",
       "    <tr>\n",
       "      <th>38799</th>\n",
       "      <td>https://www.booking.com/hotel/vn/littleboss.vi...</td>\n",
       "      <td>Huế</td>\n",
       "      <td>Hạnh</td>\n",
       "      <td>1102</td>\n",
       "      <td>LittleBoss</td>\n",
       "      <td>Căn hộ có TV màn hình phẳng. Căn hộ nằm trong...</td>\n",
       "      <td>6</td>\n",
       "      <td>The Manor Crown Đường Tố Hữu, TP Huêa, Huế, Vi...</td>\n",
       "      <td>3191</td>\n",
       "    </tr>\n",
       "    <tr>\n",
       "      <th>38800</th>\n",
       "      <td>https://www.booking.com/hotel/vn/littleboss.vi...</td>\n",
       "      <td>Huế</td>\n",
       "      <td>Hiền</td>\n",
       "      <td>1102</td>\n",
       "      <td>LittleBoss</td>\n",
       "      <td>Căn hộ có TV màn hình phẳng. Căn hộ nằm trong...</td>\n",
       "      <td>8</td>\n",
       "      <td>The Manor Crown Đường Tố Hữu, TP Huêa, Huế, Vi...</td>\n",
       "      <td>2143</td>\n",
       "    </tr>\n",
       "  </tbody>\n",
       "</table>\n",
       "<p>38801 rows × 9 columns</p>\n",
       "</div>"
      ],
      "text/plain": [
       "                                               URL Hotel Location   User  \\\n",
       "0      https://www.booking.com/hotel/vn/dalat-wind.vi...   Đà Lạt   Thảo   \n",
       "1      https://www.booking.com/hotel/vn/dalat-wind.vi...   Đà Lạt   Tran   \n",
       "2      https://www.booking.com/hotel/vn/dalat-wind.vi...   Đà Lạt    Tho   \n",
       "3      https://www.booking.com/hotel/vn/dalat-wind.vi...   Đà Lạt   Tuan   \n",
       "4      https://www.booking.com/hotel/vn/dalat-wind.vi...   Đà Lạt   Phan   \n",
       "...                                                  ...      ...    ...   \n",
       "38796  https://www.booking.com/hotel/vn/littleboss.vi...      Huế   Linh   \n",
       "38797  https://www.booking.com/hotel/vn/littleboss.vi...      Huế    Anh   \n",
       "38798  https://www.booking.com/hotel/vn/littleboss.vi...      Huế  Phong   \n",
       "38799  https://www.booking.com/hotel/vn/littleboss.vi...      Huế   Hạnh   \n",
       "38800  https://www.booking.com/hotel/vn/littleboss.vi...      Huế   Hiền   \n",
       "\n",
       "       HotelID               Name Hotel  \\\n",
       "0         2064  Dalat Wind Deluxe Hotel   \n",
       "1         2064  Dalat Wind Deluxe Hotel   \n",
       "2         2064  Dalat Wind Deluxe Hotel   \n",
       "3         2064  Dalat Wind Deluxe Hotel   \n",
       "4         2064  Dalat Wind Deluxe Hotel   \n",
       "...        ...                      ...   \n",
       "38796     1102               LittleBoss   \n",
       "38797     1102               LittleBoss   \n",
       "38798     1102               LittleBoss   \n",
       "38799     1102               LittleBoss   \n",
       "38800     1102               LittleBoss   \n",
       "\n",
       "                                            Descriptions  Rating  \\\n",
       "0      Tọa lạc tại thành phố Đà Lạt, cách Hồ Xuân Hươ...       6   \n",
       "1      Tọa lạc tại thành phố Đà Lạt, cách Hồ Xuân Hươ...       5   \n",
       "2      Tọa lạc tại thành phố Đà Lạt, cách Hồ Xuân Hươ...       6   \n",
       "3      Tọa lạc tại thành phố Đà Lạt, cách Hồ Xuân Hươ...       9   \n",
       "4      Tọa lạc tại thành phố Đà Lạt, cách Hồ Xuân Hươ...       7   \n",
       "...                                                  ...     ...   \n",
       "38796  Căn hộ có TV màn hình phẳng. Căn hộ nằm trong...       6   \n",
       "38797  Căn hộ có TV màn hình phẳng. Căn hộ nằm trong...       9   \n",
       "38798  Căn hộ có TV màn hình phẳng. Căn hộ nằm trong...       7   \n",
       "38799  Căn hộ có TV màn hình phẳng. Căn hộ nằm trong...       6   \n",
       "38800  Căn hộ có TV màn hình phẳng. Căn hộ nằm trong...       8   \n",
       "\n",
       "                                                 Address  UserID  \n",
       "0      Lot R2 03-04. Golf Valley, Ward 2, Đà Lạt, Viê...    5865  \n",
       "1      Lot R2 03-04. Golf Valley, Ward 2, Đà Lạt, Viê...    5978  \n",
       "2      Lot R2 03-04. Golf Valley, Ward 2, Đà Lạt, Viê...    5002  \n",
       "3      Lot R2 03-04. Golf Valley, Ward 2, Đà Lạt, Viê...    1607  \n",
       "4      Lot R2 03-04. Golf Valley, Ward 2, Đà Lạt, Viê...    2035  \n",
       "...                                                  ...     ...  \n",
       "38796  The Manor Crown Đường Tố Hữu, TP Huêa, Huế, Vi...    6412  \n",
       "38797  The Manor Crown Đường Tố Hữu, TP Huêa, Huế, Vi...    1557  \n",
       "38798  The Manor Crown Đường Tố Hữu, TP Huêa, Huế, Vi...    4129  \n",
       "38799  The Manor Crown Đường Tố Hữu, TP Huêa, Huế, Vi...    3191  \n",
       "38800  The Manor Crown Đường Tố Hữu, TP Huêa, Huế, Vi...    2143  \n",
       "\n",
       "[38801 rows x 9 columns]"
      ]
     },
     "execution_count": 6,
     "metadata": {},
     "output_type": "execute_result"
    }
   ],
   "source": [
    "ratings_user = pd.read_csv(PATH + 'train_total_by_user_38k1.csv')\n",
    "ratings_user"
   ]
  },
  {
   "cell_type": "code",
   "execution_count": 7,
   "metadata": {
    "colab": {
     "base_uri": "https://localhost:8080/",
     "height": 1000
    },
    "executionInfo": {
     "elapsed": 2574,
     "status": "ok",
     "timestamp": 1670978195265,
     "user": {
      "displayName": "Thể Phạm Đức",
      "userId": "09005724978234100310"
     },
     "user_tz": -420
    },
    "id": "yy84y3R5xWvC",
    "outputId": "f1e8f211-8f7d-4ccd-dd71-fd88c5fc3099"
   },
   "outputs": [
    {
     "data": {
      "text/html": [
       "<div>\n",
       "<style scoped>\n",
       "    .dataframe tbody tr th:only-of-type {\n",
       "        vertical-align: middle;\n",
       "    }\n",
       "\n",
       "    .dataframe tbody tr th {\n",
       "        vertical-align: top;\n",
       "    }\n",
       "\n",
       "    .dataframe thead th {\n",
       "        text-align: right;\n",
       "    }\n",
       "</style>\n",
       "<table border=\"1\" class=\"dataframe\">\n",
       "  <thead>\n",
       "    <tr style=\"text-align: right;\">\n",
       "      <th></th>\n",
       "      <th>URL Hotel</th>\n",
       "      <th>Location</th>\n",
       "      <th>User</th>\n",
       "      <th>HotelID</th>\n",
       "      <th>Name Hotel</th>\n",
       "      <th>Descriptions</th>\n",
       "      <th>Rating</th>\n",
       "      <th>Address</th>\n",
       "      <th>UserID</th>\n",
       "    </tr>\n",
       "  </thead>\n",
       "  <tbody>\n",
       "    <tr>\n",
       "      <th>0</th>\n",
       "      <td>https://www.booking.com/hotel/vn/dalat-wind.vi...</td>\n",
       "      <td>Đà Lạt</td>\n",
       "      <td>Thảo</td>\n",
       "      <td>2064</td>\n",
       "      <td>Dalat Wind Deluxe Hotel</td>\n",
       "      <td>Tọa lạc tại thành phố Đà Lạt, cách Hồ Xuân Hươ...</td>\n",
       "      <td>6</td>\n",
       "      <td>Lot R2 03-04. Golf Valley, Ward 2, Đà Lạt, Viê...</td>\n",
       "      <td>5865</td>\n",
       "    </tr>\n",
       "    <tr>\n",
       "      <th>1</th>\n",
       "      <td>https://www.booking.com/hotel/vn/dalat-wind.vi...</td>\n",
       "      <td>Đà Lạt</td>\n",
       "      <td>Tran</td>\n",
       "      <td>2064</td>\n",
       "      <td>Dalat Wind Deluxe Hotel</td>\n",
       "      <td>Tọa lạc tại thành phố Đà Lạt, cách Hồ Xuân Hươ...</td>\n",
       "      <td>5</td>\n",
       "      <td>Lot R2 03-04. Golf Valley, Ward 2, Đà Lạt, Viê...</td>\n",
       "      <td>5978</td>\n",
       "    </tr>\n",
       "    <tr>\n",
       "      <th>2</th>\n",
       "      <td>https://www.booking.com/hotel/vn/dalat-wind.vi...</td>\n",
       "      <td>Đà Lạt</td>\n",
       "      <td>Tho</td>\n",
       "      <td>2064</td>\n",
       "      <td>Dalat Wind Deluxe Hotel</td>\n",
       "      <td>Tọa lạc tại thành phố Đà Lạt, cách Hồ Xuân Hươ...</td>\n",
       "      <td>6</td>\n",
       "      <td>Lot R2 03-04. Golf Valley, Ward 2, Đà Lạt, Viê...</td>\n",
       "      <td>5002</td>\n",
       "    </tr>\n",
       "    <tr>\n",
       "      <th>3</th>\n",
       "      <td>https://www.booking.com/hotel/vn/dalat-wind.vi...</td>\n",
       "      <td>Đà Lạt</td>\n",
       "      <td>Tuan</td>\n",
       "      <td>2064</td>\n",
       "      <td>Dalat Wind Deluxe Hotel</td>\n",
       "      <td>Tọa lạc tại thành phố Đà Lạt, cách Hồ Xuân Hươ...</td>\n",
       "      <td>9</td>\n",
       "      <td>Lot R2 03-04. Golf Valley, Ward 2, Đà Lạt, Viê...</td>\n",
       "      <td>1607</td>\n",
       "    </tr>\n",
       "    <tr>\n",
       "      <th>4</th>\n",
       "      <td>https://www.booking.com/hotel/vn/dalat-wind.vi...</td>\n",
       "      <td>Đà Lạt</td>\n",
       "      <td>Phan</td>\n",
       "      <td>2064</td>\n",
       "      <td>Dalat Wind Deluxe Hotel</td>\n",
       "      <td>Tọa lạc tại thành phố Đà Lạt, cách Hồ Xuân Hươ...</td>\n",
       "      <td>7</td>\n",
       "      <td>Lot R2 03-04. Golf Valley, Ward 2, Đà Lạt, Viê...</td>\n",
       "      <td>2035</td>\n",
       "    </tr>\n",
       "    <tr>\n",
       "      <th>...</th>\n",
       "      <td>...</td>\n",
       "      <td>...</td>\n",
       "      <td>...</td>\n",
       "      <td>...</td>\n",
       "      <td>...</td>\n",
       "      <td>...</td>\n",
       "      <td>...</td>\n",
       "      <td>...</td>\n",
       "      <td>...</td>\n",
       "    </tr>\n",
       "    <tr>\n",
       "      <th>38796</th>\n",
       "      <td>https://www.booking.com/hotel/vn/littleboss.vi...</td>\n",
       "      <td>Huế</td>\n",
       "      <td>Linh</td>\n",
       "      <td>1102</td>\n",
       "      <td>LittleBoss</td>\n",
       "      <td>Căn hộ có TV màn hình phẳng. Căn hộ nằm trong...</td>\n",
       "      <td>6</td>\n",
       "      <td>The Manor Crown Đường Tố Hữu, TP Huêa, Huế, Vi...</td>\n",
       "      <td>6412</td>\n",
       "    </tr>\n",
       "    <tr>\n",
       "      <th>38797</th>\n",
       "      <td>https://www.booking.com/hotel/vn/littleboss.vi...</td>\n",
       "      <td>Huế</td>\n",
       "      <td>Anh</td>\n",
       "      <td>1102</td>\n",
       "      <td>LittleBoss</td>\n",
       "      <td>Căn hộ có TV màn hình phẳng. Căn hộ nằm trong...</td>\n",
       "      <td>9</td>\n",
       "      <td>The Manor Crown Đường Tố Hữu, TP Huêa, Huế, Vi...</td>\n",
       "      <td>1557</td>\n",
       "    </tr>\n",
       "    <tr>\n",
       "      <th>38798</th>\n",
       "      <td>https://www.booking.com/hotel/vn/littleboss.vi...</td>\n",
       "      <td>Huế</td>\n",
       "      <td>Phong</td>\n",
       "      <td>1102</td>\n",
       "      <td>LittleBoss</td>\n",
       "      <td>Căn hộ có TV màn hình phẳng. Căn hộ nằm trong...</td>\n",
       "      <td>7</td>\n",
       "      <td>The Manor Crown Đường Tố Hữu, TP Huêa, Huế, Vi...</td>\n",
       "      <td>4129</td>\n",
       "    </tr>\n",
       "    <tr>\n",
       "      <th>38799</th>\n",
       "      <td>https://www.booking.com/hotel/vn/littleboss.vi...</td>\n",
       "      <td>Huế</td>\n",
       "      <td>Hạnh</td>\n",
       "      <td>1102</td>\n",
       "      <td>LittleBoss</td>\n",
       "      <td>Căn hộ có TV màn hình phẳng. Căn hộ nằm trong...</td>\n",
       "      <td>6</td>\n",
       "      <td>The Manor Crown Đường Tố Hữu, TP Huêa, Huế, Vi...</td>\n",
       "      <td>3191</td>\n",
       "    </tr>\n",
       "    <tr>\n",
       "      <th>38800</th>\n",
       "      <td>https://www.booking.com/hotel/vn/littleboss.vi...</td>\n",
       "      <td>Huế</td>\n",
       "      <td>Hiền</td>\n",
       "      <td>1102</td>\n",
       "      <td>LittleBoss</td>\n",
       "      <td>Căn hộ có TV màn hình phẳng. Căn hộ nằm trong...</td>\n",
       "      <td>8</td>\n",
       "      <td>The Manor Crown Đường Tố Hữu, TP Huêa, Huế, Vi...</td>\n",
       "      <td>2143</td>\n",
       "    </tr>\n",
       "  </tbody>\n",
       "</table>\n",
       "<p>38801 rows × 9 columns</p>\n",
       "</div>"
      ],
      "text/plain": [
       "                                               URL Hotel Location   User  \\\n",
       "0      https://www.booking.com/hotel/vn/dalat-wind.vi...   Đà Lạt   Thảo   \n",
       "1      https://www.booking.com/hotel/vn/dalat-wind.vi...   Đà Lạt   Tran   \n",
       "2      https://www.booking.com/hotel/vn/dalat-wind.vi...   Đà Lạt    Tho   \n",
       "3      https://www.booking.com/hotel/vn/dalat-wind.vi...   Đà Lạt   Tuan   \n",
       "4      https://www.booking.com/hotel/vn/dalat-wind.vi...   Đà Lạt   Phan   \n",
       "...                                                  ...      ...    ...   \n",
       "38796  https://www.booking.com/hotel/vn/littleboss.vi...      Huế   Linh   \n",
       "38797  https://www.booking.com/hotel/vn/littleboss.vi...      Huế    Anh   \n",
       "38798  https://www.booking.com/hotel/vn/littleboss.vi...      Huế  Phong   \n",
       "38799  https://www.booking.com/hotel/vn/littleboss.vi...      Huế   Hạnh   \n",
       "38800  https://www.booking.com/hotel/vn/littleboss.vi...      Huế   Hiền   \n",
       "\n",
       "       HotelID               Name Hotel  \\\n",
       "0         2064  Dalat Wind Deluxe Hotel   \n",
       "1         2064  Dalat Wind Deluxe Hotel   \n",
       "2         2064  Dalat Wind Deluxe Hotel   \n",
       "3         2064  Dalat Wind Deluxe Hotel   \n",
       "4         2064  Dalat Wind Deluxe Hotel   \n",
       "...        ...                      ...   \n",
       "38796     1102               LittleBoss   \n",
       "38797     1102               LittleBoss   \n",
       "38798     1102               LittleBoss   \n",
       "38799     1102               LittleBoss   \n",
       "38800     1102               LittleBoss   \n",
       "\n",
       "                                            Descriptions  Rating  \\\n",
       "0      Tọa lạc tại thành phố Đà Lạt, cách Hồ Xuân Hươ...       6   \n",
       "1      Tọa lạc tại thành phố Đà Lạt, cách Hồ Xuân Hươ...       5   \n",
       "2      Tọa lạc tại thành phố Đà Lạt, cách Hồ Xuân Hươ...       6   \n",
       "3      Tọa lạc tại thành phố Đà Lạt, cách Hồ Xuân Hươ...       9   \n",
       "4      Tọa lạc tại thành phố Đà Lạt, cách Hồ Xuân Hươ...       7   \n",
       "...                                                  ...     ...   \n",
       "38796  Căn hộ có TV màn hình phẳng. Căn hộ nằm trong...       6   \n",
       "38797  Căn hộ có TV màn hình phẳng. Căn hộ nằm trong...       9   \n",
       "38798  Căn hộ có TV màn hình phẳng. Căn hộ nằm trong...       7   \n",
       "38799  Căn hộ có TV màn hình phẳng. Căn hộ nằm trong...       6   \n",
       "38800  Căn hộ có TV màn hình phẳng. Căn hộ nằm trong...       8   \n",
       "\n",
       "                                                 Address  UserID  \n",
       "0      Lot R2 03-04. Golf Valley, Ward 2, Đà Lạt, Viê...    5865  \n",
       "1      Lot R2 03-04. Golf Valley, Ward 2, Đà Lạt, Viê...    5978  \n",
       "2      Lot R2 03-04. Golf Valley, Ward 2, Đà Lạt, Viê...    5002  \n",
       "3      Lot R2 03-04. Golf Valley, Ward 2, Đà Lạt, Viê...    1607  \n",
       "4      Lot R2 03-04. Golf Valley, Ward 2, Đà Lạt, Viê...    2035  \n",
       "...                                                  ...     ...  \n",
       "38796  The Manor Crown Đường Tố Hữu, TP Huêa, Huế, Vi...    6412  \n",
       "38797  The Manor Crown Đường Tố Hữu, TP Huêa, Huế, Vi...    1557  \n",
       "38798  The Manor Crown Đường Tố Hữu, TP Huêa, Huế, Vi...    4129  \n",
       "38799  The Manor Crown Đường Tố Hữu, TP Huêa, Huế, Vi...    3191  \n",
       "38800  The Manor Crown Đường Tố Hữu, TP Huêa, Huế, Vi...    2143  \n",
       "\n",
       "[38801 rows x 9 columns]"
      ]
     },
     "execution_count": 7,
     "metadata": {},
     "output_type": "execute_result"
    }
   ],
   "source": [
    "ratings_item = pd.read_csv(PATH+'train_total_by_item_32k3.csv')\n",
    "ratings_item"
   ]
  },
  {
   "cell_type": "code",
   "execution_count": 8,
   "metadata": {
    "colab": {
     "base_uri": "https://localhost:8080/",
     "height": 1000
    },
    "executionInfo": {
     "elapsed": 2797,
     "status": "ok",
     "timestamp": 1670978198055,
     "user": {
      "displayName": "Thể Phạm Đức",
      "userId": "09005724978234100310"
     },
     "user_tz": -420
    },
    "id": "EjPThxSYQHh1",
    "outputId": "6a4eb5d2-4113-4c23-f2fa-a34abdf1c30b"
   },
   "outputs": [
    {
     "data": {
      "text/html": [
       "<div>\n",
       "<style scoped>\n",
       "    .dataframe tbody tr th:only-of-type {\n",
       "        vertical-align: middle;\n",
       "    }\n",
       "\n",
       "    .dataframe tbody tr th {\n",
       "        vertical-align: top;\n",
       "    }\n",
       "\n",
       "    .dataframe thead th {\n",
       "        text-align: right;\n",
       "    }\n",
       "</style>\n",
       "<table border=\"1\" class=\"dataframe\">\n",
       "  <thead>\n",
       "    <tr style=\"text-align: right;\">\n",
       "      <th></th>\n",
       "      <th>URL Hotel</th>\n",
       "      <th>Location</th>\n",
       "      <th>User</th>\n",
       "      <th>HotelID</th>\n",
       "      <th>Name Hotel</th>\n",
       "      <th>Descriptions</th>\n",
       "      <th>Rating</th>\n",
       "      <th>Address</th>\n",
       "      <th>UserID</th>\n",
       "    </tr>\n",
       "  </thead>\n",
       "  <tbody>\n",
       "    <tr>\n",
       "      <th>0</th>\n",
       "      <td>https://www.booking.com/hotel/vn/dalat-wind.vi...</td>\n",
       "      <td>Đà Lạt</td>\n",
       "      <td>Thảo</td>\n",
       "      <td>2064</td>\n",
       "      <td>Dalat Wind Deluxe Hotel</td>\n",
       "      <td>Tọa lạc tại thành phố Đà Lạt, cách Hồ Xuân Hươ...</td>\n",
       "      <td>6</td>\n",
       "      <td>Lot R2 03-04. Golf Valley, Ward 2, Đà Lạt, Viê...</td>\n",
       "      <td>5865</td>\n",
       "    </tr>\n",
       "    <tr>\n",
       "      <th>1</th>\n",
       "      <td>https://www.booking.com/hotel/vn/dalat-wind.vi...</td>\n",
       "      <td>Đà Lạt</td>\n",
       "      <td>Tran</td>\n",
       "      <td>2064</td>\n",
       "      <td>Dalat Wind Deluxe Hotel</td>\n",
       "      <td>Tọa lạc tại thành phố Đà Lạt, cách Hồ Xuân Hươ...</td>\n",
       "      <td>5</td>\n",
       "      <td>Lot R2 03-04. Golf Valley, Ward 2, Đà Lạt, Viê...</td>\n",
       "      <td>5978</td>\n",
       "    </tr>\n",
       "    <tr>\n",
       "      <th>2</th>\n",
       "      <td>https://www.booking.com/hotel/vn/dalat-wind.vi...</td>\n",
       "      <td>Đà Lạt</td>\n",
       "      <td>Tho</td>\n",
       "      <td>2064</td>\n",
       "      <td>Dalat Wind Deluxe Hotel</td>\n",
       "      <td>Tọa lạc tại thành phố Đà Lạt, cách Hồ Xuân Hươ...</td>\n",
       "      <td>6</td>\n",
       "      <td>Lot R2 03-04. Golf Valley, Ward 2, Đà Lạt, Viê...</td>\n",
       "      <td>5002</td>\n",
       "    </tr>\n",
       "    <tr>\n",
       "      <th>3</th>\n",
       "      <td>https://www.booking.com/hotel/vn/dalat-wind.vi...</td>\n",
       "      <td>Đà Lạt</td>\n",
       "      <td>Tuan</td>\n",
       "      <td>2064</td>\n",
       "      <td>Dalat Wind Deluxe Hotel</td>\n",
       "      <td>Tọa lạc tại thành phố Đà Lạt, cách Hồ Xuân Hươ...</td>\n",
       "      <td>9</td>\n",
       "      <td>Lot R2 03-04. Golf Valley, Ward 2, Đà Lạt, Viê...</td>\n",
       "      <td>1607</td>\n",
       "    </tr>\n",
       "    <tr>\n",
       "      <th>4</th>\n",
       "      <td>https://www.booking.com/hotel/vn/dalat-wind.vi...</td>\n",
       "      <td>Đà Lạt</td>\n",
       "      <td>Phan</td>\n",
       "      <td>2064</td>\n",
       "      <td>Dalat Wind Deluxe Hotel</td>\n",
       "      <td>Tọa lạc tại thành phố Đà Lạt, cách Hồ Xuân Hươ...</td>\n",
       "      <td>7</td>\n",
       "      <td>Lot R2 03-04. Golf Valley, Ward 2, Đà Lạt, Viê...</td>\n",
       "      <td>2035</td>\n",
       "    </tr>\n",
       "    <tr>\n",
       "      <th>...</th>\n",
       "      <td>...</td>\n",
       "      <td>...</td>\n",
       "      <td>...</td>\n",
       "      <td>...</td>\n",
       "      <td>...</td>\n",
       "      <td>...</td>\n",
       "      <td>...</td>\n",
       "      <td>...</td>\n",
       "      <td>...</td>\n",
       "    </tr>\n",
       "    <tr>\n",
       "      <th>38796</th>\n",
       "      <td>https://www.booking.com/hotel/vn/littleboss.vi...</td>\n",
       "      <td>Huế</td>\n",
       "      <td>Linh</td>\n",
       "      <td>1102</td>\n",
       "      <td>LittleBoss</td>\n",
       "      <td>Căn hộ có TV màn hình phẳng. Căn hộ nằm trong...</td>\n",
       "      <td>6</td>\n",
       "      <td>The Manor Crown Đường Tố Hữu, TP Huêa, Huế, Vi...</td>\n",
       "      <td>6412</td>\n",
       "    </tr>\n",
       "    <tr>\n",
       "      <th>38797</th>\n",
       "      <td>https://www.booking.com/hotel/vn/littleboss.vi...</td>\n",
       "      <td>Huế</td>\n",
       "      <td>Anh</td>\n",
       "      <td>1102</td>\n",
       "      <td>LittleBoss</td>\n",
       "      <td>Căn hộ có TV màn hình phẳng. Căn hộ nằm trong...</td>\n",
       "      <td>9</td>\n",
       "      <td>The Manor Crown Đường Tố Hữu, TP Huêa, Huế, Vi...</td>\n",
       "      <td>1557</td>\n",
       "    </tr>\n",
       "    <tr>\n",
       "      <th>38798</th>\n",
       "      <td>https://www.booking.com/hotel/vn/littleboss.vi...</td>\n",
       "      <td>Huế</td>\n",
       "      <td>Phong</td>\n",
       "      <td>1102</td>\n",
       "      <td>LittleBoss</td>\n",
       "      <td>Căn hộ có TV màn hình phẳng. Căn hộ nằm trong...</td>\n",
       "      <td>7</td>\n",
       "      <td>The Manor Crown Đường Tố Hữu, TP Huêa, Huế, Vi...</td>\n",
       "      <td>4129</td>\n",
       "    </tr>\n",
       "    <tr>\n",
       "      <th>38799</th>\n",
       "      <td>https://www.booking.com/hotel/vn/littleboss.vi...</td>\n",
       "      <td>Huế</td>\n",
       "      <td>Hạnh</td>\n",
       "      <td>1102</td>\n",
       "      <td>LittleBoss</td>\n",
       "      <td>Căn hộ có TV màn hình phẳng. Căn hộ nằm trong...</td>\n",
       "      <td>6</td>\n",
       "      <td>The Manor Crown Đường Tố Hữu, TP Huêa, Huế, Vi...</td>\n",
       "      <td>3191</td>\n",
       "    </tr>\n",
       "    <tr>\n",
       "      <th>38800</th>\n",
       "      <td>https://www.booking.com/hotel/vn/littleboss.vi...</td>\n",
       "      <td>Huế</td>\n",
       "      <td>Hiền</td>\n",
       "      <td>1102</td>\n",
       "      <td>LittleBoss</td>\n",
       "      <td>Căn hộ có TV màn hình phẳng. Căn hộ nằm trong...</td>\n",
       "      <td>8</td>\n",
       "      <td>The Manor Crown Đường Tố Hữu, TP Huêa, Huế, Vi...</td>\n",
       "      <td>2143</td>\n",
       "    </tr>\n",
       "  </tbody>\n",
       "</table>\n",
       "<p>38801 rows × 9 columns</p>\n",
       "</div>"
      ],
      "text/plain": [
       "                                               URL Hotel Location   User  \\\n",
       "0      https://www.booking.com/hotel/vn/dalat-wind.vi...   Đà Lạt   Thảo   \n",
       "1      https://www.booking.com/hotel/vn/dalat-wind.vi...   Đà Lạt   Tran   \n",
       "2      https://www.booking.com/hotel/vn/dalat-wind.vi...   Đà Lạt    Tho   \n",
       "3      https://www.booking.com/hotel/vn/dalat-wind.vi...   Đà Lạt   Tuan   \n",
       "4      https://www.booking.com/hotel/vn/dalat-wind.vi...   Đà Lạt   Phan   \n",
       "...                                                  ...      ...    ...   \n",
       "38796  https://www.booking.com/hotel/vn/littleboss.vi...      Huế   Linh   \n",
       "38797  https://www.booking.com/hotel/vn/littleboss.vi...      Huế    Anh   \n",
       "38798  https://www.booking.com/hotel/vn/littleboss.vi...      Huế  Phong   \n",
       "38799  https://www.booking.com/hotel/vn/littleboss.vi...      Huế   Hạnh   \n",
       "38800  https://www.booking.com/hotel/vn/littleboss.vi...      Huế   Hiền   \n",
       "\n",
       "       HotelID               Name Hotel  \\\n",
       "0         2064  Dalat Wind Deluxe Hotel   \n",
       "1         2064  Dalat Wind Deluxe Hotel   \n",
       "2         2064  Dalat Wind Deluxe Hotel   \n",
       "3         2064  Dalat Wind Deluxe Hotel   \n",
       "4         2064  Dalat Wind Deluxe Hotel   \n",
       "...        ...                      ...   \n",
       "38796     1102               LittleBoss   \n",
       "38797     1102               LittleBoss   \n",
       "38798     1102               LittleBoss   \n",
       "38799     1102               LittleBoss   \n",
       "38800     1102               LittleBoss   \n",
       "\n",
       "                                            Descriptions  Rating  \\\n",
       "0      Tọa lạc tại thành phố Đà Lạt, cách Hồ Xuân Hươ...       6   \n",
       "1      Tọa lạc tại thành phố Đà Lạt, cách Hồ Xuân Hươ...       5   \n",
       "2      Tọa lạc tại thành phố Đà Lạt, cách Hồ Xuân Hươ...       6   \n",
       "3      Tọa lạc tại thành phố Đà Lạt, cách Hồ Xuân Hươ...       9   \n",
       "4      Tọa lạc tại thành phố Đà Lạt, cách Hồ Xuân Hươ...       7   \n",
       "...                                                  ...     ...   \n",
       "38796  Căn hộ có TV màn hình phẳng. Căn hộ nằm trong...       6   \n",
       "38797  Căn hộ có TV màn hình phẳng. Căn hộ nằm trong...       9   \n",
       "38798  Căn hộ có TV màn hình phẳng. Căn hộ nằm trong...       7   \n",
       "38799  Căn hộ có TV màn hình phẳng. Căn hộ nằm trong...       6   \n",
       "38800  Căn hộ có TV màn hình phẳng. Căn hộ nằm trong...       8   \n",
       "\n",
       "                                                 Address  UserID  \n",
       "0      Lot R2 03-04. Golf Valley, Ward 2, Đà Lạt, Viê...    5865  \n",
       "1      Lot R2 03-04. Golf Valley, Ward 2, Đà Lạt, Viê...    5978  \n",
       "2      Lot R2 03-04. Golf Valley, Ward 2, Đà Lạt, Viê...    5002  \n",
       "3      Lot R2 03-04. Golf Valley, Ward 2, Đà Lạt, Viê...    1607  \n",
       "4      Lot R2 03-04. Golf Valley, Ward 2, Đà Lạt, Viê...    2035  \n",
       "...                                                  ...     ...  \n",
       "38796  The Manor Crown Đường Tố Hữu, TP Huêa, Huế, Vi...    6412  \n",
       "38797  The Manor Crown Đường Tố Hữu, TP Huêa, Huế, Vi...    1557  \n",
       "38798  The Manor Crown Đường Tố Hữu, TP Huêa, Huế, Vi...    4129  \n",
       "38799  The Manor Crown Đường Tố Hữu, TP Huêa, Huế, Vi...    3191  \n",
       "38800  The Manor Crown Đường Tố Hữu, TP Huêa, Huế, Vi...    2143  \n",
       "\n",
       "[38801 rows x 9 columns]"
      ]
     },
     "execution_count": 8,
     "metadata": {},
     "output_type": "execute_result"
    }
   ],
   "source": [
    "ratings_cb = pd.read_csv(PATH + 'train_total_cb_34k9.csv')\n",
    "ratings_cb"
   ]
  },
  {
   "cell_type": "code",
   "execution_count": 9,
   "metadata": {
    "colab": {
     "base_uri": "https://localhost:8080/",
     "height": 1000
    },
    "executionInfo": {
     "elapsed": 579,
     "status": "ok",
     "timestamp": 1670978198630,
     "user": {
      "displayName": "Thể Phạm Đức",
      "userId": "09005724978234100310"
     },
     "user_tz": -420
    },
    "id": "HqYndfbXxo-J",
    "outputId": "97f23384-6741-49c0-84f1-22b1b21645f8"
   },
   "outputs": [
    {
     "data": {
      "text/html": [
       "<div>\n",
       "<style scoped>\n",
       "    .dataframe tbody tr th:only-of-type {\n",
       "        vertical-align: middle;\n",
       "    }\n",
       "\n",
       "    .dataframe tbody tr th {\n",
       "        vertical-align: top;\n",
       "    }\n",
       "\n",
       "    .dataframe thead th {\n",
       "        text-align: right;\n",
       "    }\n",
       "</style>\n",
       "<table border=\"1\" class=\"dataframe\">\n",
       "  <thead>\n",
       "    <tr style=\"text-align: right;\">\n",
       "      <th></th>\n",
       "      <th>URL Hotel</th>\n",
       "      <th>Location</th>\n",
       "      <th>User</th>\n",
       "      <th>HotelID</th>\n",
       "      <th>Name Hotel</th>\n",
       "      <th>Descriptions</th>\n",
       "      <th>Rating</th>\n",
       "      <th>Address</th>\n",
       "      <th>UserID</th>\n",
       "    </tr>\n",
       "  </thead>\n",
       "  <tbody>\n",
       "    <tr>\n",
       "      <th>0</th>\n",
       "      <td>https://www.booking.com/hotel/vn/dalat-wind.vi...</td>\n",
       "      <td>Đà Lạt</td>\n",
       "      <td>Tran</td>\n",
       "      <td>2064</td>\n",
       "      <td>Dalat Wind Deluxe Hotel</td>\n",
       "      <td>Tọa lạc tại thành phố Đà Lạt, cách Hồ Xuân Hươ...</td>\n",
       "      <td>5</td>\n",
       "      <td>Lot R2 03-04. Golf Valley, Ward 2, Đà Lạt, Viê...</td>\n",
       "      <td>5978</td>\n",
       "    </tr>\n",
       "    <tr>\n",
       "      <th>1</th>\n",
       "      <td>https://www.booking.com/hotel/vn/raon-valley-v...</td>\n",
       "      <td>Đà Lạt</td>\n",
       "      <td>Tran</td>\n",
       "      <td>456</td>\n",
       "      <td>Raon Villa</td>\n",
       "      <td>Tọa lạc tại thành phố Đà Lạt, cách CLB chơi go...</td>\n",
       "      <td>6</td>\n",
       "      <td>44D Trần Khánh Dư, Phường 8, Đà Lạt, Việt Nam</td>\n",
       "      <td>5978</td>\n",
       "    </tr>\n",
       "    <tr>\n",
       "      <th>2</th>\n",
       "      <td>https://www.booking.com/hotel/vn/raon-valley-v...</td>\n",
       "      <td>Đà Lạt</td>\n",
       "      <td>Tran</td>\n",
       "      <td>456</td>\n",
       "      <td>Raon Villa</td>\n",
       "      <td>Tọa lạc tại thành phố Đà Lạt, cách CLB chơi go...</td>\n",
       "      <td>7</td>\n",
       "      <td>44D Trần Khánh Dư, Phường 8, Đà Lạt, Việt Nam</td>\n",
       "      <td>5978</td>\n",
       "    </tr>\n",
       "    <tr>\n",
       "      <th>3</th>\n",
       "      <td>https://www.booking.com/hotel/vn/raon-villa-da...</td>\n",
       "      <td>Đà Lạt</td>\n",
       "      <td>Tran</td>\n",
       "      <td>894</td>\n",
       "      <td>Raon Hotel</td>\n",
       "      <td>Tọa lạc tại thành phố Đà Lạt, cách Công viên Y...</td>\n",
       "      <td>8</td>\n",
       "      <td>42 Tô Hiến Thành, Phường 3, Đà Lạt, Việt Nam</td>\n",
       "      <td>5978</td>\n",
       "    </tr>\n",
       "    <tr>\n",
       "      <th>4</th>\n",
       "      <td>https://www.booking.com/hotel/vn/wasabi-house....</td>\n",
       "      <td>Đà Lạt</td>\n",
       "      <td>Tran</td>\n",
       "      <td>2325</td>\n",
       "      <td>Wasabi House - Phương Anh Homestay</td>\n",
       "      <td>Tọa lạc ở thành phố Đà Lạt, cách Quảng trường ...</td>\n",
       "      <td>7</td>\n",
       "      <td>20/2 Phan Như Thạch, Đà Lạt, Việt Nam</td>\n",
       "      <td>5978</td>\n",
       "    </tr>\n",
       "    <tr>\n",
       "      <th>...</th>\n",
       "      <td>...</td>\n",
       "      <td>...</td>\n",
       "      <td>...</td>\n",
       "      <td>...</td>\n",
       "      <td>...</td>\n",
       "      <td>...</td>\n",
       "      <td>...</td>\n",
       "      <td>...</td>\n",
       "      <td>...</td>\n",
       "    </tr>\n",
       "    <tr>\n",
       "      <th>690</th>\n",
       "      <td>https://www.booking.com/hotel/vn/vinpearl-hue-...</td>\n",
       "      <td>Huế</td>\n",
       "      <td>Thanh</td>\n",
       "      <td>3450</td>\n",
       "      <td>Melia Vinpearl Hue</td>\n",
       "      <td>Trong số các tiện nghi của chỗ nghỉ này có nhà...</td>\n",
       "      <td>10</td>\n",
       "      <td>50A Hung Vuong Street, Huế, Việt Nam</td>\n",
       "      <td>1229</td>\n",
       "    </tr>\n",
       "    <tr>\n",
       "      <th>691</th>\n",
       "      <td>https://www.booking.com/hotel/vn/senna-hue.vi....</td>\n",
       "      <td>Huế</td>\n",
       "      <td>Thanh</td>\n",
       "      <td>3283</td>\n",
       "      <td>Senna Hue Hotel</td>\n",
       "      <td>Khách sạn 5 sao này cũng có WiFi miễn phí, vườ...</td>\n",
       "      <td>8</td>\n",
       "      <td>7 Nguyễn Tri Phương, phường Phú Hội, Tp Huế 7 ...</td>\n",
       "      <td>1229</td>\n",
       "    </tr>\n",
       "    <tr>\n",
       "      <th>692</th>\n",
       "      <td>https://www.booking.com/hotel/vn/na-na-homesta...</td>\n",
       "      <td>Huế</td>\n",
       "      <td>Thanh</td>\n",
       "      <td>1702</td>\n",
       "      <td>Nana Homestay &amp; Villa</td>\n",
       "      <td>Nằm cách Chợ Đông Ba 1,4 km, Nana Homestay &amp; V...</td>\n",
       "      <td>6</td>\n",
       "      <td>26/1/147 Phan Đình Phùng 3, Huế, Việt Nam</td>\n",
       "      <td>1229</td>\n",
       "    </tr>\n",
       "    <tr>\n",
       "      <th>693</th>\n",
       "      <td>https://www.booking.com/hotel/vn/nana-2-homest...</td>\n",
       "      <td>Huế</td>\n",
       "      <td>Thanh</td>\n",
       "      <td>2453</td>\n",
       "      <td>Nana 2 Homestay</td>\n",
       "      <td>Tọa lạc tại thành phố Huế với Chợ Đông Ba và C...</td>\n",
       "      <td>5</td>\n",
       "      <td>14/42 Nguyễn Công Trứ, Phường Phú Hội, Huế, Vi...</td>\n",
       "      <td>1229</td>\n",
       "    </tr>\n",
       "    <tr>\n",
       "      <th>694</th>\n",
       "      <td>https://www.booking.com/hotel/vn/phuong-loan-h...</td>\n",
       "      <td>Huế</td>\n",
       "      <td>Thanh</td>\n",
       "      <td>926</td>\n",
       "      <td>Amona Hotel</td>\n",
       "      <td>Khách sạn 2 sao này cách Chợ Đông Ba 800 m và ...</td>\n",
       "      <td>5</td>\n",
       "      <td>11 Nguyen Cong Tru, Phu Hoi, Huế, Việt Nam</td>\n",
       "      <td>1229</td>\n",
       "    </tr>\n",
       "  </tbody>\n",
       "</table>\n",
       "<p>695 rows × 9 columns</p>\n",
       "</div>"
      ],
      "text/plain": [
       "                                             URL Hotel Location   User  \\\n",
       "0    https://www.booking.com/hotel/vn/dalat-wind.vi...   Đà Lạt   Tran   \n",
       "1    https://www.booking.com/hotel/vn/raon-valley-v...   Đà Lạt   Tran   \n",
       "2    https://www.booking.com/hotel/vn/raon-valley-v...   Đà Lạt   Tran   \n",
       "3    https://www.booking.com/hotel/vn/raon-villa-da...   Đà Lạt   Tran   \n",
       "4    https://www.booking.com/hotel/vn/wasabi-house....   Đà Lạt   Tran   \n",
       "..                                                 ...      ...    ...   \n",
       "690  https://www.booking.com/hotel/vn/vinpearl-hue-...      Huế  Thanh   \n",
       "691  https://www.booking.com/hotel/vn/senna-hue.vi....      Huế  Thanh   \n",
       "692  https://www.booking.com/hotel/vn/na-na-homesta...      Huế  Thanh   \n",
       "693  https://www.booking.com/hotel/vn/nana-2-homest...      Huế  Thanh   \n",
       "694  https://www.booking.com/hotel/vn/phuong-loan-h...      Huế  Thanh   \n",
       "\n",
       "     HotelID                          Name Hotel  \\\n",
       "0       2064             Dalat Wind Deluxe Hotel   \n",
       "1        456                          Raon Villa   \n",
       "2        456                          Raon Villa   \n",
       "3        894                          Raon Hotel   \n",
       "4       2325  Wasabi House - Phương Anh Homestay   \n",
       "..       ...                                 ...   \n",
       "690     3450                  Melia Vinpearl Hue   \n",
       "691     3283                     Senna Hue Hotel   \n",
       "692     1702               Nana Homestay & Villa   \n",
       "693     2453                     Nana 2 Homestay   \n",
       "694      926                         Amona Hotel   \n",
       "\n",
       "                                          Descriptions  Rating  \\\n",
       "0    Tọa lạc tại thành phố Đà Lạt, cách Hồ Xuân Hươ...       5   \n",
       "1    Tọa lạc tại thành phố Đà Lạt, cách CLB chơi go...       6   \n",
       "2    Tọa lạc tại thành phố Đà Lạt, cách CLB chơi go...       7   \n",
       "3    Tọa lạc tại thành phố Đà Lạt, cách Công viên Y...       8   \n",
       "4    Tọa lạc ở thành phố Đà Lạt, cách Quảng trường ...       7   \n",
       "..                                                 ...     ...   \n",
       "690  Trong số các tiện nghi của chỗ nghỉ này có nhà...      10   \n",
       "691  Khách sạn 5 sao này cũng có WiFi miễn phí, vườ...       8   \n",
       "692  Nằm cách Chợ Đông Ba 1,4 km, Nana Homestay & V...       6   \n",
       "693  Tọa lạc tại thành phố Huế với Chợ Đông Ba và C...       5   \n",
       "694  Khách sạn 2 sao này cách Chợ Đông Ba 800 m và ...       5   \n",
       "\n",
       "                                               Address  UserID  \n",
       "0    Lot R2 03-04. Golf Valley, Ward 2, Đà Lạt, Viê...    5978  \n",
       "1       44D Trần Khánh Dư, Phường 8, Đà Lạt, Việt Nam    5978  \n",
       "2       44D Trần Khánh Dư, Phường 8, Đà Lạt, Việt Nam    5978  \n",
       "3        42 Tô Hiến Thành, Phường 3, Đà Lạt, Việt Nam    5978  \n",
       "4               20/2 Phan Như Thạch, Đà Lạt, Việt Nam    5978  \n",
       "..                                                 ...     ...  \n",
       "690              50A Hung Vuong Street, Huế, Việt Nam    1229  \n",
       "691  7 Nguyễn Tri Phương, phường Phú Hội, Tp Huế 7 ...    1229  \n",
       "692         26/1/147 Phan Đình Phùng 3, Huế, Việt Nam    1229  \n",
       "693  14/42 Nguyễn Công Trứ, Phường Phú Hội, Huế, Vi...    1229  \n",
       "694        11 Nguyen Cong Tru, Phu Hoi, Huế, Việt Nam    1229  \n",
       "\n",
       "[695 rows x 9 columns]"
      ]
     },
     "execution_count": 9,
     "metadata": {},
     "output_type": "execute_result"
    }
   ],
   "source": [
    "ratings_test_user = pd.read_csv(PATH + 'test_by_user_695.csv')\n",
    "ratings_test_user"
   ]
  },
  {
   "cell_type": "code",
   "execution_count": 10,
   "metadata": {
    "colab": {
     "base_uri": "https://localhost:8080/",
     "height": 1000
    },
    "executionInfo": {
     "elapsed": 15,
     "status": "ok",
     "timestamp": 1670978198632,
     "user": {
      "displayName": "Thể Phạm Đức",
      "userId": "09005724978234100310"
     },
     "user_tz": -420
    },
    "id": "zeZYFsWexpA1",
    "outputId": "70ad24c3-3317-49bf-cb7b-4a6dcd7912c6"
   },
   "outputs": [
    {
     "data": {
      "text/html": [
       "<div>\n",
       "<style scoped>\n",
       "    .dataframe tbody tr th:only-of-type {\n",
       "        vertical-align: middle;\n",
       "    }\n",
       "\n",
       "    .dataframe tbody tr th {\n",
       "        vertical-align: top;\n",
       "    }\n",
       "\n",
       "    .dataframe thead th {\n",
       "        text-align: right;\n",
       "    }\n",
       "</style>\n",
       "<table border=\"1\" class=\"dataframe\">\n",
       "  <thead>\n",
       "    <tr style=\"text-align: right;\">\n",
       "      <th></th>\n",
       "      <th>URL Hotel</th>\n",
       "      <th>Location</th>\n",
       "      <th>User</th>\n",
       "      <th>HotelID</th>\n",
       "      <th>Name Hotel</th>\n",
       "      <th>Descriptions</th>\n",
       "      <th>Rating</th>\n",
       "      <th>Address</th>\n",
       "      <th>UserID</th>\n",
       "    </tr>\n",
       "  </thead>\n",
       "  <tbody>\n",
       "    <tr>\n",
       "      <th>0</th>\n",
       "      <td>https://www.booking.com/hotel/vn/dalat-wind.vi...</td>\n",
       "      <td>Đà Lạt</td>\n",
       "      <td>Thảo</td>\n",
       "      <td>2064</td>\n",
       "      <td>Dalat Wind Deluxe Hotel</td>\n",
       "      <td>Tọa lạc tại thành phố Đà Lạt, cách Hồ Xuân Hươ...</td>\n",
       "      <td>6</td>\n",
       "      <td>Lot R2 03-04. Golf Valley, Ward 2, Đà Lạt, Viê...</td>\n",
       "      <td>5865</td>\n",
       "    </tr>\n",
       "    <tr>\n",
       "      <th>1</th>\n",
       "      <td>https://www.booking.com/hotel/vn/dalat-wind.vi...</td>\n",
       "      <td>Đà Lạt</td>\n",
       "      <td>Tran</td>\n",
       "      <td>2064</td>\n",
       "      <td>Dalat Wind Deluxe Hotel</td>\n",
       "      <td>Tọa lạc tại thành phố Đà Lạt, cách Hồ Xuân Hươ...</td>\n",
       "      <td>5</td>\n",
       "      <td>Lot R2 03-04. Golf Valley, Ward 2, Đà Lạt, Viê...</td>\n",
       "      <td>5978</td>\n",
       "    </tr>\n",
       "    <tr>\n",
       "      <th>2</th>\n",
       "      <td>https://www.booking.com/hotel/vn/dalat-wind.vi...</td>\n",
       "      <td>Đà Lạt</td>\n",
       "      <td>Tho</td>\n",
       "      <td>2064</td>\n",
       "      <td>Dalat Wind Deluxe Hotel</td>\n",
       "      <td>Tọa lạc tại thành phố Đà Lạt, cách Hồ Xuân Hươ...</td>\n",
       "      <td>6</td>\n",
       "      <td>Lot R2 03-04. Golf Valley, Ward 2, Đà Lạt, Viê...</td>\n",
       "      <td>5002</td>\n",
       "    </tr>\n",
       "    <tr>\n",
       "      <th>3</th>\n",
       "      <td>https://www.booking.com/hotel/vn/tropicana-2.v...</td>\n",
       "      <td>Đà Lạt</td>\n",
       "      <td>Cát</td>\n",
       "      <td>397</td>\n",
       "      <td>Miền Nhiệt Đới 2 Hotel</td>\n",
       "      <td>Tọa lạc tại thành phố Đà Lạt, cách Quảng trườn...</td>\n",
       "      <td>9</td>\n",
       "      <td>64 Phan Nhu Thach, ward 1, Đà Lạt, Việt Nam</td>\n",
       "      <td>3370</td>\n",
       "    </tr>\n",
       "    <tr>\n",
       "      <th>4</th>\n",
       "      <td>https://www.booking.com/hotel/vn/tropicana-2.v...</td>\n",
       "      <td>Đà Lạt</td>\n",
       "      <td>Đỗ</td>\n",
       "      <td>397</td>\n",
       "      <td>Miền Nhiệt Đới 2 Hotel</td>\n",
       "      <td>Tọa lạc tại thành phố Đà Lạt, cách Quảng trườn...</td>\n",
       "      <td>7</td>\n",
       "      <td>64 Phan Nhu Thach, ward 1, Đà Lạt, Việt Nam</td>\n",
       "      <td>630</td>\n",
       "    </tr>\n",
       "    <tr>\n",
       "      <th>...</th>\n",
       "      <td>...</td>\n",
       "      <td>...</td>\n",
       "      <td>...</td>\n",
       "      <td>...</td>\n",
       "      <td>...</td>\n",
       "      <td>...</td>\n",
       "      <td>...</td>\n",
       "      <td>...</td>\n",
       "      <td>...</td>\n",
       "    </tr>\n",
       "    <tr>\n",
       "      <th>5743</th>\n",
       "      <td>https://www.booking.com/hotel/vn/hung-long-hos...</td>\n",
       "      <td>Huế</td>\n",
       "      <td>Hoàng</td>\n",
       "      <td>448</td>\n",
       "      <td>Hưng Long Hostel</td>\n",
       "      <td>Tất cả phòng nghỉ tại đây đều có khu vực ghế n...</td>\n",
       "      <td>8</td>\n",
       "      <td>Trần Quang Khải 5 kiệt 6, Huế, Việt Nam</td>\n",
       "      <td>4846</td>\n",
       "    </tr>\n",
       "    <tr>\n",
       "      <th>5744</th>\n",
       "      <td>https://www.booking.com/hotel/vn/hung-long-hos...</td>\n",
       "      <td>Huế</td>\n",
       "      <td>Duncan</td>\n",
       "      <td>448</td>\n",
       "      <td>Hưng Long Hostel</td>\n",
       "      <td>Tất cả phòng nghỉ tại đây đều có khu vực ghế n...</td>\n",
       "      <td>9</td>\n",
       "      <td>Trần Quang Khải 5 kiệt 6, Huế, Việt Nam</td>\n",
       "      <td>3202</td>\n",
       "    </tr>\n",
       "    <tr>\n",
       "      <th>5745</th>\n",
       "      <td>https://www.booking.com/hotel/vn/pinehill-tu-h...</td>\n",
       "      <td>Huế</td>\n",
       "      <td>Liên</td>\n",
       "      <td>1614</td>\n",
       "      <td>Pinehill Tu Hieu Hue Homestay</td>\n",
       "      <td>Các căn tại đây có tầm nhìn ra vườn, khu vực g...</td>\n",
       "      <td>6</td>\n",
       "      <td>72 C Le Ngo Cat Thuy Xuan, Huế, Việt Nam</td>\n",
       "      <td>5168</td>\n",
       "    </tr>\n",
       "    <tr>\n",
       "      <th>5746</th>\n",
       "      <td>https://www.booking.com/hotel/vn/pinehill-tu-h...</td>\n",
       "      <td>Huế</td>\n",
       "      <td>Tính</td>\n",
       "      <td>1614</td>\n",
       "      <td>Pinehill Tu Hieu Hue Homestay</td>\n",
       "      <td>Các căn tại đây có tầm nhìn ra vườn, khu vực g...</td>\n",
       "      <td>7</td>\n",
       "      <td>72 C Le Ngo Cat Thuy Xuan, Huế, Việt Nam</td>\n",
       "      <td>4623</td>\n",
       "    </tr>\n",
       "    <tr>\n",
       "      <th>5747</th>\n",
       "      <td>https://www.booking.com/hotel/vn/pinehill-tu-h...</td>\n",
       "      <td>Huế</td>\n",
       "      <td>Thi</td>\n",
       "      <td>1614</td>\n",
       "      <td>Pinehill Tu Hieu Hue Homestay</td>\n",
       "      <td>Các căn tại đây có tầm nhìn ra vườn, khu vực g...</td>\n",
       "      <td>9</td>\n",
       "      <td>72 C Le Ngo Cat Thuy Xuan, Huế, Việt Nam</td>\n",
       "      <td>2865</td>\n",
       "    </tr>\n",
       "  </tbody>\n",
       "</table>\n",
       "<p>5748 rows × 9 columns</p>\n",
       "</div>"
      ],
      "text/plain": [
       "                                              URL Hotel Location    User  \\\n",
       "0     https://www.booking.com/hotel/vn/dalat-wind.vi...   Đà Lạt    Thảo   \n",
       "1     https://www.booking.com/hotel/vn/dalat-wind.vi...   Đà Lạt    Tran   \n",
       "2     https://www.booking.com/hotel/vn/dalat-wind.vi...   Đà Lạt     Tho   \n",
       "3     https://www.booking.com/hotel/vn/tropicana-2.v...   Đà Lạt     Cát   \n",
       "4     https://www.booking.com/hotel/vn/tropicana-2.v...   Đà Lạt      Đỗ   \n",
       "...                                                 ...      ...     ...   \n",
       "5743  https://www.booking.com/hotel/vn/hung-long-hos...      Huế   Hoàng   \n",
       "5744  https://www.booking.com/hotel/vn/hung-long-hos...      Huế  Duncan   \n",
       "5745  https://www.booking.com/hotel/vn/pinehill-tu-h...      Huế    Liên   \n",
       "5746  https://www.booking.com/hotel/vn/pinehill-tu-h...      Huế    Tính   \n",
       "5747  https://www.booking.com/hotel/vn/pinehill-tu-h...      Huế     Thi   \n",
       "\n",
       "      HotelID                     Name Hotel  \\\n",
       "0        2064        Dalat Wind Deluxe Hotel   \n",
       "1        2064        Dalat Wind Deluxe Hotel   \n",
       "2        2064        Dalat Wind Deluxe Hotel   \n",
       "3         397         Miền Nhiệt Đới 2 Hotel   \n",
       "4         397         Miền Nhiệt Đới 2 Hotel   \n",
       "...       ...                            ...   \n",
       "5743      448               Hưng Long Hostel   \n",
       "5744      448               Hưng Long Hostel   \n",
       "5745     1614  Pinehill Tu Hieu Hue Homestay   \n",
       "5746     1614  Pinehill Tu Hieu Hue Homestay   \n",
       "5747     1614  Pinehill Tu Hieu Hue Homestay   \n",
       "\n",
       "                                           Descriptions  Rating  \\\n",
       "0     Tọa lạc tại thành phố Đà Lạt, cách Hồ Xuân Hươ...       6   \n",
       "1     Tọa lạc tại thành phố Đà Lạt, cách Hồ Xuân Hươ...       5   \n",
       "2     Tọa lạc tại thành phố Đà Lạt, cách Hồ Xuân Hươ...       6   \n",
       "3     Tọa lạc tại thành phố Đà Lạt, cách Quảng trườn...       9   \n",
       "4     Tọa lạc tại thành phố Đà Lạt, cách Quảng trườn...       7   \n",
       "...                                                 ...     ...   \n",
       "5743  Tất cả phòng nghỉ tại đây đều có khu vực ghế n...       8   \n",
       "5744  Tất cả phòng nghỉ tại đây đều có khu vực ghế n...       9   \n",
       "5745  Các căn tại đây có tầm nhìn ra vườn, khu vực g...       6   \n",
       "5746  Các căn tại đây có tầm nhìn ra vườn, khu vực g...       7   \n",
       "5747  Các căn tại đây có tầm nhìn ra vườn, khu vực g...       9   \n",
       "\n",
       "                                                Address  UserID  \n",
       "0     Lot R2 03-04. Golf Valley, Ward 2, Đà Lạt, Viê...    5865  \n",
       "1     Lot R2 03-04. Golf Valley, Ward 2, Đà Lạt, Viê...    5978  \n",
       "2     Lot R2 03-04. Golf Valley, Ward 2, Đà Lạt, Viê...    5002  \n",
       "3          64 Phan Nhu Thach, ward 1, Đà Lạt, Việt Nam    3370  \n",
       "4          64 Phan Nhu Thach, ward 1, Đà Lạt, Việt Nam     630  \n",
       "...                                                 ...     ...  \n",
       "5743           Trần Quang Khải 5 kiệt 6, Huế, Việt Nam    4846  \n",
       "5744           Trần Quang Khải 5 kiệt 6, Huế, Việt Nam    3202  \n",
       "5745          72 C Le Ngo Cat Thuy Xuan, Huế, Việt Nam    5168  \n",
       "5746          72 C Le Ngo Cat Thuy Xuan, Huế, Việt Nam    4623  \n",
       "5747          72 C Le Ngo Cat Thuy Xuan, Huế, Việt Nam    2865  \n",
       "\n",
       "[5748 rows x 9 columns]"
      ]
     },
     "execution_count": 10,
     "metadata": {},
     "output_type": "execute_result"
    }
   ],
   "source": [
    "ratings_test_item = pd.read_csv(PATH + 'test_by_item_5k7.csv')\n",
    "ratings_test_item"
   ]
  },
  {
   "cell_type": "code",
   "execution_count": 11,
   "metadata": {
    "colab": {
     "base_uri": "https://localhost:8080/",
     "height": 1000
    },
    "executionInfo": {
     "elapsed": 413,
     "status": "ok",
     "timestamp": 1670978199031,
     "user": {
      "displayName": "Thể Phạm Đức",
      "userId": "09005724978234100310"
     },
     "user_tz": -420
    },
    "id": "173BF0va5cCj",
    "outputId": "c9fc4b7e-7ed1-4dca-b0f5-212caba5b7a3"
   },
   "outputs": [
    {
     "data": {
      "text/html": [
       "<div>\n",
       "<style scoped>\n",
       "    .dataframe tbody tr th:only-of-type {\n",
       "        vertical-align: middle;\n",
       "    }\n",
       "\n",
       "    .dataframe tbody tr th {\n",
       "        vertical-align: top;\n",
       "    }\n",
       "\n",
       "    .dataframe thead th {\n",
       "        text-align: right;\n",
       "    }\n",
       "</style>\n",
       "<table border=\"1\" class=\"dataframe\">\n",
       "  <thead>\n",
       "    <tr style=\"text-align: right;\">\n",
       "      <th></th>\n",
       "      <th>URL Hotel</th>\n",
       "      <th>Location</th>\n",
       "      <th>User</th>\n",
       "      <th>HotelID</th>\n",
       "      <th>Name Hotel</th>\n",
       "      <th>Descriptions</th>\n",
       "      <th>Rating</th>\n",
       "      <th>Address</th>\n",
       "      <th>UserID</th>\n",
       "    </tr>\n",
       "  </thead>\n",
       "  <tbody>\n",
       "    <tr>\n",
       "      <th>0</th>\n",
       "      <td>https://www.booking.com/hotel/vn/dalat-wind.vi...</td>\n",
       "      <td>Đà Lạt</td>\n",
       "      <td>Thảo</td>\n",
       "      <td>2064</td>\n",
       "      <td>Dalat Wind Deluxe Hotel</td>\n",
       "      <td>Tọa lạc tại thành phố Đà Lạt, cách Hồ Xuân Hươ...</td>\n",
       "      <td>6</td>\n",
       "      <td>Lot R2 03-04. Golf Valley, Ward 2, Đà Lạt, Viê...</td>\n",
       "      <td>5865</td>\n",
       "    </tr>\n",
       "    <tr>\n",
       "      <th>1</th>\n",
       "      <td>https://www.booking.com/hotel/vn/green-meadow-...</td>\n",
       "      <td>Đà Lạt</td>\n",
       "      <td>Thảo</td>\n",
       "      <td>3350</td>\n",
       "      <td>Green Meadow Hotel &amp; Villa Dalat</td>\n",
       "      <td>Tọa lạc tại thành phố Đà Lạt, cách Quảng trườn...</td>\n",
       "      <td>7</td>\n",
       "      <td>20 Nguyen Viet Xuan, Ward 4, Đà Lạt, Việt Nam</td>\n",
       "      <td>5865</td>\n",
       "    </tr>\n",
       "    <tr>\n",
       "      <th>2</th>\n",
       "      <td>https://www.booking.com/hotel/vn/villadecelia....</td>\n",
       "      <td>Đà Lạt</td>\n",
       "      <td>Thảo</td>\n",
       "      <td>3594</td>\n",
       "      <td>VILLADECELIA</td>\n",
       "      <td>Biệt thự cung cấp miễn phí cả WiFi lẫn chỗ đỗ ...</td>\n",
       "      <td>10</td>\n",
       "      <td>98 Đường Thông Thiên Học, Đà Lạt, Việt Nam</td>\n",
       "      <td>5865</td>\n",
       "    </tr>\n",
       "    <tr>\n",
       "      <th>3</th>\n",
       "      <td>https://www.booking.com/hotel/vn/wasabi-house....</td>\n",
       "      <td>Đà Lạt</td>\n",
       "      <td>Thảo</td>\n",
       "      <td>2325</td>\n",
       "      <td>Wasabi House - Phương Anh Homestay</td>\n",
       "      <td>Tọa lạc ở thành phố Đà Lạt, cách Quảng trường ...</td>\n",
       "      <td>5</td>\n",
       "      <td>20/2 Phan Như Thạch, Đà Lạt, Việt Nam</td>\n",
       "      <td>5865</td>\n",
       "    </tr>\n",
       "    <tr>\n",
       "      <th>4</th>\n",
       "      <td>https://www.booking.com/hotel/vn/silent-night-...</td>\n",
       "      <td>Đà Lạt</td>\n",
       "      <td>Thảo</td>\n",
       "      <td>3142</td>\n",
       "      <td>Silent Night Dem Lanh Hotel</td>\n",
       "      <td>Tọa lạc tại vị trí thuận tiện ở khu Hồ Xuân Hư...</td>\n",
       "      <td>5</td>\n",
       "      <td>05 Pham Ngu Lao, Ward 1, Đà Lạt, Việt Nam</td>\n",
       "      <td>5865</td>\n",
       "    </tr>\n",
       "    <tr>\n",
       "      <th>...</th>\n",
       "      <td>...</td>\n",
       "      <td>...</td>\n",
       "      <td>...</td>\n",
       "      <td>...</td>\n",
       "      <td>...</td>\n",
       "      <td>...</td>\n",
       "      <td>...</td>\n",
       "      <td>...</td>\n",
       "      <td>...</td>\n",
       "    </tr>\n",
       "    <tr>\n",
       "      <th>3690</th>\n",
       "      <td>https://www.booking.com/hotel/vn/la-perle.vi.h...</td>\n",
       "      <td>Huế</td>\n",
       "      <td>Thu</td>\n",
       "      <td>637</td>\n",
       "      <td>Hotel La Perle</td>\n",
       "      <td>Tọa lạc ở khu trung tâm ồn ào và náo nhiệt của...</td>\n",
       "      <td>8</td>\n",
       "      <td>24 lane 42 Nguyen Cong Tru street, Huế, Việt Nam</td>\n",
       "      <td>3212</td>\n",
       "    </tr>\n",
       "    <tr>\n",
       "      <th>3691</th>\n",
       "      <td>https://www.booking.com/hotel/vn/mondial-hue.v...</td>\n",
       "      <td>Huế</td>\n",
       "      <td>Thu</td>\n",
       "      <td>2800</td>\n",
       "      <td>Mondial Hotel</td>\n",
       "      <td>Mondial Hotel Hue cung cấp chỗ ở hiện đại ở tr...</td>\n",
       "      <td>8</td>\n",
       "      <td>17 Nguyen Hue, 530000 Huế, Việt Nam</td>\n",
       "      <td>3212</td>\n",
       "    </tr>\n",
       "    <tr>\n",
       "      <th>3692</th>\n",
       "      <td>https://www.booking.com/hotel/vn/la-paix-hue-r...</td>\n",
       "      <td>Huế</td>\n",
       "      <td>Thu</td>\n",
       "      <td>112</td>\n",
       "      <td>La Paix Hue</td>\n",
       "      <td>Nằm trong bán kính 3,7 km từ Chợ Đông Ba và 3,...</td>\n",
       "      <td>10</td>\n",
       "      <td>No 8, Lane 139 Nguyen Sinh Cung St, Vy Da Ward...</td>\n",
       "      <td>3212</td>\n",
       "    </tr>\n",
       "    <tr>\n",
       "      <th>3693</th>\n",
       "      <td>https://www.booking.com/hotel/vn/mondial-hue.v...</td>\n",
       "      <td>Huế</td>\n",
       "      <td>Thu</td>\n",
       "      <td>2800</td>\n",
       "      <td>Mondial Hotel</td>\n",
       "      <td>Mondial Hotel Hue cung cấp chỗ ở hiện đại ở tr...</td>\n",
       "      <td>4</td>\n",
       "      <td>17 Nguyen Hue, 530000 Huế, Việt Nam</td>\n",
       "      <td>3212</td>\n",
       "    </tr>\n",
       "    <tr>\n",
       "      <th>3694</th>\n",
       "      <td>https://www.booking.com/hotel/vn/la-paix-hue-r...</td>\n",
       "      <td>Huế</td>\n",
       "      <td>Thu</td>\n",
       "      <td>112</td>\n",
       "      <td>La Paix Hue</td>\n",
       "      <td>Nằm trong bán kính 3,7 km từ Chợ Đông Ba và 3,...</td>\n",
       "      <td>8</td>\n",
       "      <td>No 8, Lane 139 Nguyen Sinh Cung St, Vy Da Ward...</td>\n",
       "      <td>3212</td>\n",
       "    </tr>\n",
       "  </tbody>\n",
       "</table>\n",
       "<p>3695 rows × 9 columns</p>\n",
       "</div>"
      ],
      "text/plain": [
       "                                              URL Hotel Location  User  \\\n",
       "0     https://www.booking.com/hotel/vn/dalat-wind.vi...   Đà Lạt  Thảo   \n",
       "1     https://www.booking.com/hotel/vn/green-meadow-...   Đà Lạt  Thảo   \n",
       "2     https://www.booking.com/hotel/vn/villadecelia....   Đà Lạt  Thảo   \n",
       "3     https://www.booking.com/hotel/vn/wasabi-house....   Đà Lạt  Thảo   \n",
       "4     https://www.booking.com/hotel/vn/silent-night-...   Đà Lạt  Thảo   \n",
       "...                                                 ...      ...   ...   \n",
       "3690  https://www.booking.com/hotel/vn/la-perle.vi.h...      Huế   Thu   \n",
       "3691  https://www.booking.com/hotel/vn/mondial-hue.v...      Huế   Thu   \n",
       "3692  https://www.booking.com/hotel/vn/la-paix-hue-r...      Huế   Thu   \n",
       "3693  https://www.booking.com/hotel/vn/mondial-hue.v...      Huế   Thu   \n",
       "3694  https://www.booking.com/hotel/vn/la-paix-hue-r...      Huế   Thu   \n",
       "\n",
       "      HotelID                          Name Hotel  \\\n",
       "0        2064             Dalat Wind Deluxe Hotel   \n",
       "1        3350    Green Meadow Hotel & Villa Dalat   \n",
       "2        3594                        VILLADECELIA   \n",
       "3        2325  Wasabi House - Phương Anh Homestay   \n",
       "4        3142         Silent Night Dem Lanh Hotel   \n",
       "...       ...                                 ...   \n",
       "3690      637                      Hotel La Perle   \n",
       "3691     2800                       Mondial Hotel   \n",
       "3692      112                         La Paix Hue   \n",
       "3693     2800                       Mondial Hotel   \n",
       "3694      112                         La Paix Hue   \n",
       "\n",
       "                                           Descriptions  Rating  \\\n",
       "0     Tọa lạc tại thành phố Đà Lạt, cách Hồ Xuân Hươ...       6   \n",
       "1     Tọa lạc tại thành phố Đà Lạt, cách Quảng trườn...       7   \n",
       "2     Biệt thự cung cấp miễn phí cả WiFi lẫn chỗ đỗ ...      10   \n",
       "3     Tọa lạc ở thành phố Đà Lạt, cách Quảng trường ...       5   \n",
       "4     Tọa lạc tại vị trí thuận tiện ở khu Hồ Xuân Hư...       5   \n",
       "...                                                 ...     ...   \n",
       "3690  Tọa lạc ở khu trung tâm ồn ào và náo nhiệt của...       8   \n",
       "3691  Mondial Hotel Hue cung cấp chỗ ở hiện đại ở tr...       8   \n",
       "3692  Nằm trong bán kính 3,7 km từ Chợ Đông Ba và 3,...      10   \n",
       "3693  Mondial Hotel Hue cung cấp chỗ ở hiện đại ở tr...       4   \n",
       "3694  Nằm trong bán kính 3,7 km từ Chợ Đông Ba và 3,...       8   \n",
       "\n",
       "                                                Address  UserID  \n",
       "0     Lot R2 03-04. Golf Valley, Ward 2, Đà Lạt, Viê...    5865  \n",
       "1        20 Nguyen Viet Xuan, Ward 4, Đà Lạt, Việt Nam    5865  \n",
       "2           98 Đường Thông Thiên Học, Đà Lạt, Việt Nam    5865  \n",
       "3                20/2 Phan Như Thạch, Đà Lạt, Việt Nam    5865  \n",
       "4            05 Pham Ngu Lao, Ward 1, Đà Lạt, Việt Nam    5865  \n",
       "...                                                 ...     ...  \n",
       "3690  24 lane 42 Nguyen Cong Tru street, Huế, Việt Nam    3212  \n",
       "3691               17 Nguyen Hue, 530000 Huế, Việt Nam    3212  \n",
       "3692  No 8, Lane 139 Nguyen Sinh Cung St, Vy Da Ward...    3212  \n",
       "3693               17 Nguyen Hue, 530000 Huế, Việt Nam    3212  \n",
       "3694  No 8, Lane 139 Nguyen Sinh Cung St, Vy Da Ward...    3212  \n",
       "\n",
       "[3695 rows x 9 columns]"
      ]
     },
     "execution_count": 11,
     "metadata": {},
     "output_type": "execute_result"
    }
   ],
   "source": [
    "ratings_test_cb = pd.read_csv(PATH + 'test_cb_3k7.csv')\n",
    "ratings_test_cb"
   ]
  },
  {
   "cell_type": "code",
   "execution_count": 12,
   "metadata": {
    "colab": {
     "base_uri": "https://localhost:8080/",
     "height": 1000
    },
    "executionInfo": {
     "elapsed": 1253,
     "status": "ok",
     "timestamp": 1670978200275,
     "user": {
      "displayName": "Thể Phạm Đức",
      "userId": "09005724978234100310"
     },
     "user_tz": -420
    },
    "id": "oXGFwRVc5AsB",
    "outputId": "2b2fe322-264d-4483-ec73-b860443c773a"
   },
   "outputs": [
    {
     "data": {
      "text/html": [
       "<div>\n",
       "<style scoped>\n",
       "    .dataframe tbody tr th:only-of-type {\n",
       "        vertical-align: middle;\n",
       "    }\n",
       "\n",
       "    .dataframe tbody tr th {\n",
       "        vertical-align: top;\n",
       "    }\n",
       "\n",
       "    .dataframe thead th {\n",
       "        text-align: right;\n",
       "    }\n",
       "</style>\n",
       "<table border=\"1\" class=\"dataframe\">\n",
       "  <thead>\n",
       "    <tr style=\"text-align: right;\">\n",
       "      <th></th>\n",
       "      <th>UserID</th>\n",
       "      <th>Location</th>\n",
       "      <th>Name Hotel</th>\n",
       "      <th>Descriptions</th>\n",
       "    </tr>\n",
       "  </thead>\n",
       "  <tbody>\n",
       "    <tr>\n",
       "      <th>0</th>\n",
       "      <td>5865</td>\n",
       "      <td>Đà Lạt</td>\n",
       "      <td>NaN</td>\n",
       "      <td>NaN</td>\n",
       "    </tr>\n",
       "    <tr>\n",
       "      <th>1</th>\n",
       "      <td>5978</td>\n",
       "      <td>Đà Lạt</td>\n",
       "      <td>NaN</td>\n",
       "      <td>NaN</td>\n",
       "    </tr>\n",
       "    <tr>\n",
       "      <th>2</th>\n",
       "      <td>1607</td>\n",
       "      <td>Đà Lạt</td>\n",
       "      <td>NaN</td>\n",
       "      <td>NaN</td>\n",
       "    </tr>\n",
       "    <tr>\n",
       "      <th>3</th>\n",
       "      <td>2035</td>\n",
       "      <td>Đà Lạt</td>\n",
       "      <td>NaN</td>\n",
       "      <td>NaN</td>\n",
       "    </tr>\n",
       "    <tr>\n",
       "      <th>4</th>\n",
       "      <td>6153</td>\n",
       "      <td>Đà Lạt</td>\n",
       "      <td>NaN</td>\n",
       "      <td>NaN</td>\n",
       "    </tr>\n",
       "    <tr>\n",
       "      <th>...</th>\n",
       "      <td>...</td>\n",
       "      <td>...</td>\n",
       "      <td>...</td>\n",
       "      <td>...</td>\n",
       "    </tr>\n",
       "    <tr>\n",
       "      <th>734</th>\n",
       "      <td>5978</td>\n",
       "      <td>Huế</td>\n",
       "      <td>NaN</td>\n",
       "      <td>NaN</td>\n",
       "    </tr>\n",
       "    <tr>\n",
       "      <th>735</th>\n",
       "      <td>3492</td>\n",
       "      <td>Huế</td>\n",
       "      <td>NaN</td>\n",
       "      <td>NaN</td>\n",
       "    </tr>\n",
       "    <tr>\n",
       "      <th>736</th>\n",
       "      <td>3155</td>\n",
       "      <td>Huế</td>\n",
       "      <td>NaN</td>\n",
       "      <td>NaN</td>\n",
       "    </tr>\n",
       "    <tr>\n",
       "      <th>737</th>\n",
       "      <td>4168</td>\n",
       "      <td>Huế</td>\n",
       "      <td>NaN</td>\n",
       "      <td>NaN</td>\n",
       "    </tr>\n",
       "    <tr>\n",
       "      <th>738</th>\n",
       "      <td>3212</td>\n",
       "      <td>Huế</td>\n",
       "      <td>NaN</td>\n",
       "      <td>NaN</td>\n",
       "    </tr>\n",
       "  </tbody>\n",
       "</table>\n",
       "<p>739 rows × 4 columns</p>\n",
       "</div>"
      ],
      "text/plain": [
       "     UserID Location  Name Hotel  Descriptions\n",
       "0      5865   Đà Lạt         NaN           NaN\n",
       "1      5978   Đà Lạt         NaN           NaN\n",
       "2      1607   Đà Lạt         NaN           NaN\n",
       "3      2035   Đà Lạt         NaN           NaN\n",
       "4      6153   Đà Lạt         NaN           NaN\n",
       "..      ...      ...         ...           ...\n",
       "734    5978      Huế         NaN           NaN\n",
       "735    3492      Huế         NaN           NaN\n",
       "736    3155      Huế         NaN           NaN\n",
       "737    4168      Huế         NaN           NaN\n",
       "738    3212      Huế         NaN           NaN\n",
       "\n",
       "[739 rows x 4 columns]"
      ]
     },
     "execution_count": 12,
     "metadata": {},
     "output_type": "execute_result"
    }
   ],
   "source": [
    "hotels_merge = pd.read_csv(PATH + 'data_cb_merge.csv')\n",
    "hotels_merge"
   ]
  },
  {
   "cell_type": "markdown",
   "metadata": {
    "id": "XbVcvn_k3MBW"
   },
   "source": [
    "## **Collaborative Filtering**"
   ]
  },
  {
   "cell_type": "markdown",
   "metadata": {
    "id": "Ebx388d3yJK_"
   },
   "source": [
    "### **Based on User**"
   ]
  },
  {
   "cell_type": "markdown",
   "metadata": {
    "id": "0F2zZ76BBU3-"
   },
   "source": [
    "#### **Modeling**"
   ]
  },
  {
   "cell_type": "code",
   "execution_count": 13,
   "metadata": {},
   "outputs": [
    {
     "data": {
      "text/html": [
       "<div>\n",
       "<style scoped>\n",
       "    .dataframe tbody tr th:only-of-type {\n",
       "        vertical-align: middle;\n",
       "    }\n",
       "\n",
       "    .dataframe tbody tr th {\n",
       "        vertical-align: top;\n",
       "    }\n",
       "\n",
       "    .dataframe thead th {\n",
       "        text-align: right;\n",
       "    }\n",
       "</style>\n",
       "<table border=\"1\" class=\"dataframe\">\n",
       "  <thead>\n",
       "    <tr style=\"text-align: right;\">\n",
       "      <th>UserID</th>\n",
       "      <th>1</th>\n",
       "      <th>2</th>\n",
       "      <th>3</th>\n",
       "      <th>4</th>\n",
       "      <th>5</th>\n",
       "      <th>6</th>\n",
       "      <th>7</th>\n",
       "      <th>8</th>\n",
       "      <th>9</th>\n",
       "      <th>10</th>\n",
       "      <th>...</th>\n",
       "      <th>6462</th>\n",
       "      <th>6463</th>\n",
       "      <th>6464</th>\n",
       "      <th>6465</th>\n",
       "      <th>6466</th>\n",
       "      <th>6467</th>\n",
       "      <th>6468</th>\n",
       "      <th>6469</th>\n",
       "      <th>6470</th>\n",
       "      <th>6471</th>\n",
       "    </tr>\n",
       "    <tr>\n",
       "      <th>HotelID</th>\n",
       "      <th></th>\n",
       "      <th></th>\n",
       "      <th></th>\n",
       "      <th></th>\n",
       "      <th></th>\n",
       "      <th></th>\n",
       "      <th></th>\n",
       "      <th></th>\n",
       "      <th></th>\n",
       "      <th></th>\n",
       "      <th></th>\n",
       "      <th></th>\n",
       "      <th></th>\n",
       "      <th></th>\n",
       "      <th></th>\n",
       "      <th></th>\n",
       "      <th></th>\n",
       "      <th></th>\n",
       "      <th></th>\n",
       "      <th></th>\n",
       "      <th></th>\n",
       "    </tr>\n",
       "  </thead>\n",
       "  <tbody>\n",
       "    <tr>\n",
       "      <th>1</th>\n",
       "      <td>0.0</td>\n",
       "      <td>0.0</td>\n",
       "      <td>0.0</td>\n",
       "      <td>0.0</td>\n",
       "      <td>0.0</td>\n",
       "      <td>0.0</td>\n",
       "      <td>0.0</td>\n",
       "      <td>0.0</td>\n",
       "      <td>0.0</td>\n",
       "      <td>0.0</td>\n",
       "      <td>...</td>\n",
       "      <td>0.0</td>\n",
       "      <td>0.0</td>\n",
       "      <td>0.0</td>\n",
       "      <td>0.0</td>\n",
       "      <td>0.0</td>\n",
       "      <td>0.0</td>\n",
       "      <td>0.0</td>\n",
       "      <td>0.0</td>\n",
       "      <td>0.0</td>\n",
       "      <td>0.0</td>\n",
       "    </tr>\n",
       "    <tr>\n",
       "      <th>2</th>\n",
       "      <td>0.0</td>\n",
       "      <td>0.0</td>\n",
       "      <td>0.0</td>\n",
       "      <td>0.0</td>\n",
       "      <td>0.0</td>\n",
       "      <td>0.0</td>\n",
       "      <td>0.0</td>\n",
       "      <td>0.0</td>\n",
       "      <td>0.0</td>\n",
       "      <td>0.0</td>\n",
       "      <td>...</td>\n",
       "      <td>0.0</td>\n",
       "      <td>0.0</td>\n",
       "      <td>0.0</td>\n",
       "      <td>0.0</td>\n",
       "      <td>0.0</td>\n",
       "      <td>0.0</td>\n",
       "      <td>0.0</td>\n",
       "      <td>0.0</td>\n",
       "      <td>0.0</td>\n",
       "      <td>0.0</td>\n",
       "    </tr>\n",
       "    <tr>\n",
       "      <th>3</th>\n",
       "      <td>0.0</td>\n",
       "      <td>0.0</td>\n",
       "      <td>0.0</td>\n",
       "      <td>0.0</td>\n",
       "      <td>0.0</td>\n",
       "      <td>0.0</td>\n",
       "      <td>0.0</td>\n",
       "      <td>0.0</td>\n",
       "      <td>0.0</td>\n",
       "      <td>0.0</td>\n",
       "      <td>...</td>\n",
       "      <td>0.0</td>\n",
       "      <td>0.0</td>\n",
       "      <td>0.0</td>\n",
       "      <td>0.0</td>\n",
       "      <td>0.0</td>\n",
       "      <td>0.0</td>\n",
       "      <td>0.0</td>\n",
       "      <td>0.0</td>\n",
       "      <td>0.0</td>\n",
       "      <td>0.0</td>\n",
       "    </tr>\n",
       "    <tr>\n",
       "      <th>4</th>\n",
       "      <td>0.0</td>\n",
       "      <td>0.0</td>\n",
       "      <td>0.0</td>\n",
       "      <td>0.0</td>\n",
       "      <td>0.0</td>\n",
       "      <td>0.0</td>\n",
       "      <td>0.0</td>\n",
       "      <td>0.0</td>\n",
       "      <td>0.0</td>\n",
       "      <td>0.0</td>\n",
       "      <td>...</td>\n",
       "      <td>0.0</td>\n",
       "      <td>0.0</td>\n",
       "      <td>0.0</td>\n",
       "      <td>0.0</td>\n",
       "      <td>0.0</td>\n",
       "      <td>0.0</td>\n",
       "      <td>0.0</td>\n",
       "      <td>0.0</td>\n",
       "      <td>0.0</td>\n",
       "      <td>0.0</td>\n",
       "    </tr>\n",
       "    <tr>\n",
       "      <th>5</th>\n",
       "      <td>0.0</td>\n",
       "      <td>0.0</td>\n",
       "      <td>0.0</td>\n",
       "      <td>0.0</td>\n",
       "      <td>0.0</td>\n",
       "      <td>0.0</td>\n",
       "      <td>0.0</td>\n",
       "      <td>0.0</td>\n",
       "      <td>0.0</td>\n",
       "      <td>0.0</td>\n",
       "      <td>...</td>\n",
       "      <td>0.0</td>\n",
       "      <td>0.0</td>\n",
       "      <td>0.0</td>\n",
       "      <td>0.0</td>\n",
       "      <td>0.0</td>\n",
       "      <td>0.0</td>\n",
       "      <td>0.0</td>\n",
       "      <td>0.0</td>\n",
       "      <td>0.0</td>\n",
       "      <td>0.0</td>\n",
       "    </tr>\n",
       "    <tr>\n",
       "      <th>...</th>\n",
       "      <td>...</td>\n",
       "      <td>...</td>\n",
       "      <td>...</td>\n",
       "      <td>...</td>\n",
       "      <td>...</td>\n",
       "      <td>...</td>\n",
       "      <td>...</td>\n",
       "      <td>...</td>\n",
       "      <td>...</td>\n",
       "      <td>...</td>\n",
       "      <td>...</td>\n",
       "      <td>...</td>\n",
       "      <td>...</td>\n",
       "      <td>...</td>\n",
       "      <td>...</td>\n",
       "      <td>...</td>\n",
       "      <td>...</td>\n",
       "      <td>...</td>\n",
       "      <td>...</td>\n",
       "      <td>...</td>\n",
       "      <td>...</td>\n",
       "    </tr>\n",
       "    <tr>\n",
       "      <th>4502</th>\n",
       "      <td>0.0</td>\n",
       "      <td>0.0</td>\n",
       "      <td>0.0</td>\n",
       "      <td>0.0</td>\n",
       "      <td>0.0</td>\n",
       "      <td>0.0</td>\n",
       "      <td>0.0</td>\n",
       "      <td>0.0</td>\n",
       "      <td>0.0</td>\n",
       "      <td>0.0</td>\n",
       "      <td>...</td>\n",
       "      <td>0.0</td>\n",
       "      <td>0.0</td>\n",
       "      <td>0.0</td>\n",
       "      <td>0.0</td>\n",
       "      <td>0.0</td>\n",
       "      <td>0.0</td>\n",
       "      <td>0.0</td>\n",
       "      <td>0.0</td>\n",
       "      <td>0.0</td>\n",
       "      <td>0.0</td>\n",
       "    </tr>\n",
       "    <tr>\n",
       "      <th>4503</th>\n",
       "      <td>0.0</td>\n",
       "      <td>0.0</td>\n",
       "      <td>0.0</td>\n",
       "      <td>0.0</td>\n",
       "      <td>0.0</td>\n",
       "      <td>0.0</td>\n",
       "      <td>0.0</td>\n",
       "      <td>0.0</td>\n",
       "      <td>0.0</td>\n",
       "      <td>0.0</td>\n",
       "      <td>...</td>\n",
       "      <td>0.0</td>\n",
       "      <td>0.0</td>\n",
       "      <td>0.0</td>\n",
       "      <td>0.0</td>\n",
       "      <td>0.0</td>\n",
       "      <td>0.0</td>\n",
       "      <td>0.0</td>\n",
       "      <td>0.0</td>\n",
       "      <td>0.0</td>\n",
       "      <td>0.0</td>\n",
       "    </tr>\n",
       "    <tr>\n",
       "      <th>4504</th>\n",
       "      <td>0.0</td>\n",
       "      <td>0.0</td>\n",
       "      <td>0.0</td>\n",
       "      <td>0.0</td>\n",
       "      <td>0.0</td>\n",
       "      <td>0.0</td>\n",
       "      <td>0.0</td>\n",
       "      <td>0.0</td>\n",
       "      <td>0.0</td>\n",
       "      <td>0.0</td>\n",
       "      <td>...</td>\n",
       "      <td>0.0</td>\n",
       "      <td>0.0</td>\n",
       "      <td>0.0</td>\n",
       "      <td>0.0</td>\n",
       "      <td>0.0</td>\n",
       "      <td>0.0</td>\n",
       "      <td>0.0</td>\n",
       "      <td>0.0</td>\n",
       "      <td>0.0</td>\n",
       "      <td>0.0</td>\n",
       "    </tr>\n",
       "    <tr>\n",
       "      <th>4505</th>\n",
       "      <td>0.0</td>\n",
       "      <td>0.0</td>\n",
       "      <td>0.0</td>\n",
       "      <td>0.0</td>\n",
       "      <td>0.0</td>\n",
       "      <td>0.0</td>\n",
       "      <td>0.0</td>\n",
       "      <td>0.0</td>\n",
       "      <td>0.0</td>\n",
       "      <td>0.0</td>\n",
       "      <td>...</td>\n",
       "      <td>0.0</td>\n",
       "      <td>0.0</td>\n",
       "      <td>0.0</td>\n",
       "      <td>0.0</td>\n",
       "      <td>0.0</td>\n",
       "      <td>0.0</td>\n",
       "      <td>0.0</td>\n",
       "      <td>0.0</td>\n",
       "      <td>0.0</td>\n",
       "      <td>0.0</td>\n",
       "    </tr>\n",
       "    <tr>\n",
       "      <th>4506</th>\n",
       "      <td>0.0</td>\n",
       "      <td>0.0</td>\n",
       "      <td>0.0</td>\n",
       "      <td>0.0</td>\n",
       "      <td>0.0</td>\n",
       "      <td>0.0</td>\n",
       "      <td>0.0</td>\n",
       "      <td>0.0</td>\n",
       "      <td>0.0</td>\n",
       "      <td>0.0</td>\n",
       "      <td>...</td>\n",
       "      <td>0.0</td>\n",
       "      <td>0.0</td>\n",
       "      <td>0.0</td>\n",
       "      <td>0.0</td>\n",
       "      <td>0.0</td>\n",
       "      <td>0.0</td>\n",
       "      <td>0.0</td>\n",
       "      <td>0.0</td>\n",
       "      <td>0.0</td>\n",
       "      <td>0.0</td>\n",
       "    </tr>\n",
       "  </tbody>\n",
       "</table>\n",
       "<p>4506 rows × 6471 columns</p>\n",
       "</div>"
      ],
      "text/plain": [
       "UserID   1     2     3     4     5     6     7     8     9     10    ...  \\\n",
       "HotelID                                                              ...   \n",
       "1         0.0   0.0   0.0   0.0   0.0   0.0   0.0   0.0   0.0   0.0  ...   \n",
       "2         0.0   0.0   0.0   0.0   0.0   0.0   0.0   0.0   0.0   0.0  ...   \n",
       "3         0.0   0.0   0.0   0.0   0.0   0.0   0.0   0.0   0.0   0.0  ...   \n",
       "4         0.0   0.0   0.0   0.0   0.0   0.0   0.0   0.0   0.0   0.0  ...   \n",
       "5         0.0   0.0   0.0   0.0   0.0   0.0   0.0   0.0   0.0   0.0  ...   \n",
       "...       ...   ...   ...   ...   ...   ...   ...   ...   ...   ...  ...   \n",
       "4502      0.0   0.0   0.0   0.0   0.0   0.0   0.0   0.0   0.0   0.0  ...   \n",
       "4503      0.0   0.0   0.0   0.0   0.0   0.0   0.0   0.0   0.0   0.0  ...   \n",
       "4504      0.0   0.0   0.0   0.0   0.0   0.0   0.0   0.0   0.0   0.0  ...   \n",
       "4505      0.0   0.0   0.0   0.0   0.0   0.0   0.0   0.0   0.0   0.0  ...   \n",
       "4506      0.0   0.0   0.0   0.0   0.0   0.0   0.0   0.0   0.0   0.0  ...   \n",
       "\n",
       "UserID   6462  6463  6464  6465  6466  6467  6468  6469  6470  6471  \n",
       "HotelID                                                              \n",
       "1         0.0   0.0   0.0   0.0   0.0   0.0   0.0   0.0   0.0   0.0  \n",
       "2         0.0   0.0   0.0   0.0   0.0   0.0   0.0   0.0   0.0   0.0  \n",
       "3         0.0   0.0   0.0   0.0   0.0   0.0   0.0   0.0   0.0   0.0  \n",
       "4         0.0   0.0   0.0   0.0   0.0   0.0   0.0   0.0   0.0   0.0  \n",
       "5         0.0   0.0   0.0   0.0   0.0   0.0   0.0   0.0   0.0   0.0  \n",
       "...       ...   ...   ...   ...   ...   ...   ...   ...   ...   ...  \n",
       "4502      0.0   0.0   0.0   0.0   0.0   0.0   0.0   0.0   0.0   0.0  \n",
       "4503      0.0   0.0   0.0   0.0   0.0   0.0   0.0   0.0   0.0   0.0  \n",
       "4504      0.0   0.0   0.0   0.0   0.0   0.0   0.0   0.0   0.0   0.0  \n",
       "4505      0.0   0.0   0.0   0.0   0.0   0.0   0.0   0.0   0.0   0.0  \n",
       "4506      0.0   0.0   0.0   0.0   0.0   0.0   0.0   0.0   0.0   0.0  \n",
       "\n",
       "[4506 rows x 6471 columns]"
      ]
     },
     "execution_count": 13,
     "metadata": {},
     "output_type": "execute_result"
    }
   ],
   "source": [
    "# Chuyển bảng ratings sang dataframe với các cột là \"UserID\" và các hàng là \"HotelID\" (*)\n",
    "ratings_user['Rating'] = pd.to_numeric(ratings_user['Rating'], errors='coerce')\n",
    "\n",
    "# Pivot table with numeric values only\n",
    "ratings_user_df = ratings_user.pivot_table(index='HotelID', columns='UserID', values='Rating').fillna(0)\n",
    "ratings_user_df"
   ]
  },
  {
   "cell_type": "code",
   "execution_count": 14,
   "metadata": {
    "id": "XoZLEL5Llyyj"
   },
   "outputs": [],
   "source": [
    "# Lấy ra rating của 1 user cho 1 hotel\n",
    "def get_rating_user(userid, hotelid):\n",
    "    return (ratings_user.loc[(ratings_user.UserID==userid) & (ratings_user.HotelID==hotelid), 'Rating'].iloc[0])"
   ]
  },
  {
   "cell_type": "code",
   "execution_count": 18,
   "metadata": {
    "colab": {
     "base_uri": "https://localhost:8080/"
    },
    "executionInfo": {
     "elapsed": 140,
     "status": "ok",
     "timestamp": 1670941410645,
     "user": {
      "displayName": "Thể Phạm Đức",
      "userId": "09005724978234100310"
     },
     "user_tz": -420
    },
    "id": "6FXd-cUKly1j",
    "outputId": "cd1a50ef-e9d0-46a3-bac9-cebb4fbe24ce"
   },
   "outputs": [
    {
     "ename": "IndexError",
     "evalue": "single positional indexer is out-of-bounds",
     "output_type": "error",
     "traceback": [
      "\u001b[0;31m---------------------------------------------------------------------------\u001b[0m",
      "\u001b[0;31mIndexError\u001b[0m                                Traceback (most recent call last)",
      "Input \u001b[0;32mIn [18]\u001b[0m, in \u001b[0;36m<cell line: 1>\u001b[0;34m()\u001b[0m\n\u001b[0;32m----> 1\u001b[0m \u001b[43mget_rating_user\u001b[49m\u001b[43m(\u001b[49m\u001b[38;5;241;43m1\u001b[39;49m\u001b[43m,\u001b[49m\u001b[38;5;241;43m0\u001b[39;49m\u001b[43m)\u001b[49m\n",
      "Input \u001b[0;32mIn [14]\u001b[0m, in \u001b[0;36mget_rating_user\u001b[0;34m(userid, hotelid)\u001b[0m\n\u001b[1;32m      2\u001b[0m \u001b[38;5;28;01mdef\u001b[39;00m \u001b[38;5;21mget_rating_user\u001b[39m(userid, hotelid):\n\u001b[0;32m----> 3\u001b[0m     \u001b[38;5;28;01mreturn\u001b[39;00m (\u001b[43mratings_user\u001b[49m\u001b[38;5;241;43m.\u001b[39;49m\u001b[43mloc\u001b[49m\u001b[43m[\u001b[49m\u001b[43m(\u001b[49m\u001b[43mratings_user\u001b[49m\u001b[38;5;241;43m.\u001b[39;49m\u001b[43mUserID\u001b[49m\u001b[38;5;241;43m==\u001b[39;49m\u001b[43muserid\u001b[49m\u001b[43m)\u001b[49m\u001b[43m \u001b[49m\u001b[38;5;241;43m&\u001b[39;49m\u001b[43m \u001b[49m\u001b[43m(\u001b[49m\u001b[43mratings_user\u001b[49m\u001b[38;5;241;43m.\u001b[39;49m\u001b[43mHotelID\u001b[49m\u001b[38;5;241;43m==\u001b[39;49m\u001b[43mhotelid\u001b[49m\u001b[43m)\u001b[49m\u001b[43m,\u001b[49m\u001b[43m \u001b[49m\u001b[38;5;124;43m'\u001b[39;49m\u001b[38;5;124;43mRating\u001b[39;49m\u001b[38;5;124;43m'\u001b[39;49m\u001b[43m]\u001b[49m\u001b[38;5;241;43m.\u001b[39;49m\u001b[43miloc\u001b[49m\u001b[43m[\u001b[49m\u001b[38;5;241;43m0\u001b[39;49m\u001b[43m]\u001b[49m)\n",
      "File \u001b[0;32m~/opt/anaconda3/lib/python3.9/site-packages/pandas/core/indexing.py:1191\u001b[0m, in \u001b[0;36m_LocationIndexer.__getitem__\u001b[0;34m(self, key)\u001b[0m\n\u001b[1;32m   1189\u001b[0m maybe_callable \u001b[38;5;241m=\u001b[39m com\u001b[38;5;241m.\u001b[39mapply_if_callable(key, \u001b[38;5;28mself\u001b[39m\u001b[38;5;241m.\u001b[39mobj)\n\u001b[1;32m   1190\u001b[0m maybe_callable \u001b[38;5;241m=\u001b[39m \u001b[38;5;28mself\u001b[39m\u001b[38;5;241m.\u001b[39m_check_deprecated_callable_usage(key, maybe_callable)\n\u001b[0;32m-> 1191\u001b[0m \u001b[38;5;28;01mreturn\u001b[39;00m \u001b[38;5;28;43mself\u001b[39;49m\u001b[38;5;241;43m.\u001b[39;49m\u001b[43m_getitem_axis\u001b[49m\u001b[43m(\u001b[49m\u001b[43mmaybe_callable\u001b[49m\u001b[43m,\u001b[49m\u001b[43m \u001b[49m\u001b[43maxis\u001b[49m\u001b[38;5;241;43m=\u001b[39;49m\u001b[43maxis\u001b[49m\u001b[43m)\u001b[49m\n",
      "File \u001b[0;32m~/opt/anaconda3/lib/python3.9/site-packages/pandas/core/indexing.py:1752\u001b[0m, in \u001b[0;36m_iLocIndexer._getitem_axis\u001b[0;34m(self, key, axis)\u001b[0m\n\u001b[1;32m   1749\u001b[0m     \u001b[38;5;28;01mraise\u001b[39;00m \u001b[38;5;167;01mTypeError\u001b[39;00m(\u001b[38;5;124m\"\u001b[39m\u001b[38;5;124mCannot index by location index with a non-integer key\u001b[39m\u001b[38;5;124m\"\u001b[39m)\n\u001b[1;32m   1751\u001b[0m \u001b[38;5;66;03m# validate the location\u001b[39;00m\n\u001b[0;32m-> 1752\u001b[0m \u001b[38;5;28;43mself\u001b[39;49m\u001b[38;5;241;43m.\u001b[39;49m\u001b[43m_validate_integer\u001b[49m\u001b[43m(\u001b[49m\u001b[43mkey\u001b[49m\u001b[43m,\u001b[49m\u001b[43m \u001b[49m\u001b[43maxis\u001b[49m\u001b[43m)\u001b[49m\n\u001b[1;32m   1754\u001b[0m \u001b[38;5;28;01mreturn\u001b[39;00m \u001b[38;5;28mself\u001b[39m\u001b[38;5;241m.\u001b[39mobj\u001b[38;5;241m.\u001b[39m_ixs(key, axis\u001b[38;5;241m=\u001b[39maxis)\n",
      "File \u001b[0;32m~/opt/anaconda3/lib/python3.9/site-packages/pandas/core/indexing.py:1685\u001b[0m, in \u001b[0;36m_iLocIndexer._validate_integer\u001b[0;34m(self, key, axis)\u001b[0m\n\u001b[1;32m   1683\u001b[0m len_axis \u001b[38;5;241m=\u001b[39m \u001b[38;5;28mlen\u001b[39m(\u001b[38;5;28mself\u001b[39m\u001b[38;5;241m.\u001b[39mobj\u001b[38;5;241m.\u001b[39m_get_axis(axis))\n\u001b[1;32m   1684\u001b[0m \u001b[38;5;28;01mif\u001b[39;00m key \u001b[38;5;241m>\u001b[39m\u001b[38;5;241m=\u001b[39m len_axis \u001b[38;5;129;01mor\u001b[39;00m key \u001b[38;5;241m<\u001b[39m \u001b[38;5;241m-\u001b[39mlen_axis:\n\u001b[0;32m-> 1685\u001b[0m     \u001b[38;5;28;01mraise\u001b[39;00m \u001b[38;5;167;01mIndexError\u001b[39;00m(\u001b[38;5;124m\"\u001b[39m\u001b[38;5;124msingle positional indexer is out-of-bounds\u001b[39m\u001b[38;5;124m\"\u001b[39m)\n",
      "\u001b[0;31mIndexError\u001b[0m: single positional indexer is out-of-bounds"
     ]
    }
   ],
   "source": [
    "get_rating_user(1,0)"
   ]
  },
  {
   "cell_type": "code",
   "execution_count": null,
   "metadata": {
    "id": "EwRVx8FCly31"
   },
   "outputs": [],
   "source": [
    "def pearson_correlation_score_user(user1, user2, location):\n",
    "  both_rating_count = [] # Danh sách các hotel được đánh giá chung bởi user1 và user2\n",
    "  list_hotel_user1 = ratings_user.loc[(ratings_user.UserID == user1) & (ratings_user.Location == location), 'HotelID'].to_list()\n",
    "  list_hotel_user2 = ratings_user.loc[(ratings_user.UserID == user2) & (ratings_user.Location == location), 'HotelID'].to_list()\n",
    "\n",
    "  for hotelid in list_hotel_user1:\n",
    "    if hotelid in list_hotel_user2:\n",
    "      both_rating_count.append(hotelid)\n",
    "\n",
    "  if len(both_rating_count)==0:\n",
    "    return 0\n",
    "  \n",
    "  avg_rating_1 = np.average([get_rating_user(user1, i) for i in both_rating_count]) # rating trung bình user1\n",
    "  avg_rating_2 = np.average([get_rating_user(user2, i) for i in both_rating_count]) # rating trung bình user2\n",
    "\n",
    "  TuSo = sum([(get_rating_user(user1, i) - avg_rating_1)*(get_rating_user(user2, i) - avg_rating_2) for i in both_rating_count])\n",
    "  MauSo = sqrt(sum((get_rating_user(user1, i) - avg_rating_1)**2 for i in both_rating_count))*sqrt(sum((get_rating_user(user2, i) - avg_rating_2)**2 for i in both_rating_count))\n",
    "\n",
    "  if MauSo==0:\n",
    "    return 0\n",
    "  \n",
    "  return TuSo/MauSo"
   ]
  },
  {
   "cell_type": "code",
   "execution_count": null,
   "metadata": {
    "colab": {
     "base_uri": "https://localhost:8080/"
    },
    "executionInfo": {
     "elapsed": 109,
     "status": "ok",
     "timestamp": 1670941410649,
     "user": {
      "displayName": "Thể Phạm Đức",
      "userId": "09005724978234100310"
     },
     "user_tz": -420
    },
    "id": "YBigLticly89",
    "outputId": "6cc16842-589e-4eab-dd6f-5ba12765c933"
   },
   "outputs": [],
   "source": [
    "pearson_correlation_score_user(1187,1284,LOCATION[1])"
   ]
  },
  {
   "cell_type": "code",
   "execution_count": null,
   "metadata": {
    "id": "AU-_aPDyISRh"
   },
   "outputs": [],
   "source": [
    "def distance_similarity_score_user(user1, user2, location):\n",
    "  both_rating_count = 0\n",
    "  list_hotel_user1 = ratings_user.loc[(ratings_user.UserID == user1) & (ratings_user.Location == location), 'HotelID'].tolist()\n",
    "  list_hotel_user2 = ratings_user.loc[(ratings_user.UserID == user2) & (ratings_user.Location == location), 'HotelID'].tolist()\n",
    "\n",
    "  for hotelid in list_hotel_user1:\n",
    "    if hotelid in list_hotel_user2:\n",
    "      both_rating_count += 1\n",
    "  \n",
    "  if both_rating_count == 0:\n",
    "    return 0\n",
    "\n",
    "  rating1 = []\n",
    "  rating2 = []\n",
    "\n",
    "  for hotelid in list_hotel_user1:\n",
    "    if hotelid in list_hotel_user2:\n",
    "      rating1.append(get_rating_user(user1, hotelid))\n",
    "      rating2.append(get_rating_user(user2, hotelid))\n",
    "  \n",
    "  # print(rating1)\n",
    "  # print(rating2)\n",
    "\n",
    "  return dot(rating1, rating2)/(norm(rating1)*norm(rating2))"
   ]
  },
  {
   "cell_type": "code",
   "execution_count": null,
   "metadata": {
    "colab": {
     "base_uri": "https://localhost:8080/"
    },
    "executionInfo": {
     "elapsed": 107,
     "status": "ok",
     "timestamp": 1670941410652,
     "user": {
      "displayName": "Thể Phạm Đức",
      "userId": "09005724978234100310"
     },
     "user_tz": -420
    },
    "id": "KfK9B51QIq7y",
    "outputId": "672eeb47-1334-4b3f-c2c9-58eed9900d38"
   },
   "outputs": [],
   "source": [
    "print('Distance based similarity between user ids X & u1: {}'.format(distance_similarity_score_user(1308,1530, LOCATION[0])))\n",
    "print('Distance based similarity between user ids X & u2: {}'.format(distance_similarity_score_user(1308,5564, LOCATION[1])))\n",
    "print('Distance based similarity between user ids X & u3: {}'.format(distance_similarity_score_user(1308,6009, LOCATION[2])))"
   ]
  },
  {
   "cell_type": "code",
   "execution_count": null,
   "metadata": {
    "id": "usvvSfuelwqO"
   },
   "outputs": [],
   "source": [
    "# Danh sách các khách sạn đã rating bởi người dùng\n",
    "def get_hotelids(userid, location):\n",
    "  return (ratings_user.loc[(ratings_user.UserID==userid) & (ratings_user.Location == location), 'HotelID'].tolist())"
   ]
  },
  {
   "cell_type": "code",
   "execution_count": null,
   "metadata": {
    "colab": {
     "base_uri": "https://localhost:8080/"
    },
    "executionInfo": {
     "elapsed": 103,
     "status": "ok",
     "timestamp": 1670941410655,
     "user": {
      "displayName": "Thể Phạm Đức",
      "userId": "09005724978234100310"
     },
     "user_tz": -420
    },
    "id": "Wt07HR1Xhy6l",
    "outputId": "86cd3e39-c2fc-463f-e81b-c1f72a467c97"
   },
   "outputs": [],
   "source": [
    "print(get_hotelids(1308, LOCATION[0]))"
   ]
  },
  {
   "cell_type": "code",
   "execution_count": null,
   "metadata": {
    "id": "PepdL1oRlwtH"
   },
   "outputs": [],
   "source": [
    "# Lấy ra tên của một khách sạn\n",
    "def get_name_hotel(hotelid):\n",
    "  return (ratings_user.loc[(ratings_user.HotelID==hotelid), 'Name Hotel'].iloc[0])"
   ]
  },
  {
   "cell_type": "code",
   "execution_count": null,
   "metadata": {
    "colab": {
     "base_uri": "https://localhost:8080/",
     "height": 412
    },
    "executionInfo": {
     "elapsed": 100,
     "status": "ok",
     "timestamp": 1670941410658,
     "user": {
      "displayName": "Thể Phạm Đức",
      "userId": "09005724978234100310"
     },
     "user_tz": -420
    },
    "id": "r8vo0RTUlwwR",
    "outputId": "5effad01-a9c9-40f0-b9e3-f881e1b8b000"
   },
   "outputs": [],
   "source": [
    "get_name_hotel(50)"
   ]
  },
  {
   "cell_type": "code",
   "execution_count": null,
   "metadata": {
    "id": "cuBSlzsilwkS"
   },
   "outputs": [],
   "source": [
    "def most_similar_user(user1, number_of_user, location, similarity_name):\n",
    "  userid = ratings_user.UserID.unique().tolist()\n",
    "  # print(len(userid))\n",
    "\n",
    "  if similarity_name == 'pearson':\n",
    "    similarity_score =  [(pearson_correlation_score_user(user1, user_i, location), user_i) for user_i in userid if user_i != user1]\n",
    "\n",
    "  if similarity_name == 'cosine':\n",
    "    similarity_score =  [(distance_similarity_score_user(user1, user_i, location), user_i) for user_i in userid if user_i != user1]\n",
    "\n",
    "  similarity_score.sort() # Tăng dần\n",
    "  similarity_score.reverse() # Giảm dần\n",
    "\n",
    "  return similarity_score[:number_of_user] # Có thể thay đổi số lượng lân cận"
   ]
  },
  {
   "cell_type": "code",
   "execution_count": null,
   "metadata": {
    "colab": {
     "base_uri": "https://localhost:8080/"
    },
    "executionInfo": {
     "elapsed": 56240,
     "status": "ok",
     "timestamp": 1670941466803,
     "user": {
      "displayName": "Thể Phạm Đức",
      "userId": "09005724978234100310"
     },
     "user_tz": -420
    },
    "id": "lrczldCMlwm5",
    "outputId": "2c4748ae-c2e0-423d-b046-bd932f88a15d"
   },
   "outputs": [],
   "source": [
    "%%time\n",
    "list_user_popular = most_similar_user(1308, 10, LOCATION[0], \"pearson\")\n",
    "list_user_popular"
   ]
  },
  {
   "cell_type": "code",
   "execution_count": null,
   "metadata": {
    "id": "KgzLRRj5lwzd"
   },
   "outputs": [],
   "source": [
    "# Lấy ra danh sách khuyến nghị từ top populars\n",
    "def get_recommendation_based_on_user(userid, number_of_user, location, similarity_name):#topN, \n",
    "  total = {}\n",
    "  sum_similarity = {}\n",
    "  list_user_popular = most_similar_user(userid, number_of_user, location, similarity_name)\n",
    "\n",
    "  # Iterating over subset of user ids.\n",
    "  for similarityName, user in list_user_popular:\n",
    "    score = similarityName\n",
    "    hotelids = get_hotelids(user, location) \n",
    "\n",
    "    for hotelid in hotelids: # -> Danh sách các id hotel đã xem bởi user khác và khởi tạo giá trị = 0\n",
    "      if hotelid not in get_hotelids(userid, location):\n",
    "        total[hotelid] = 0\n",
    "        sum_similarity[hotelid] = 0\n",
    "\n",
    "    for hotelid in hotelids: #-> Danh sách các id hotel đã xem bởi user khác\n",
    "      if hotelid not in get_hotelids(userid, location):\n",
    "        total[hotelid] += get_rating_user(user, hotelid)*score\n",
    "        sum_similarity[hotelid] += score\n",
    "\n",
    "  # Normalizing ratings\n",
    "  ranking = []\n",
    "  for userid,tot in total.items():\n",
    "    if sum_similarity[userid] == 0:\n",
    "      ranking.append((0,userid))\n",
    "    else:\n",
    "      rating = tot/(sum_similarity[userid])\n",
    "      ranking.append((rating,userid))\n",
    "  # ranking = [(tot/sum_similarity[hotelid], hotelid) for hotelid, tot in total.items()]\n",
    "  ranking.sort()\n",
    "  ranking.reverse()\n",
    "\n",
    "  recommendations = [(get_name_hotel(hotelid), hotelid, score) for score, hotelid in ranking] #\n",
    "\n",
    "  return recommendations#[:topN]"
   ]
  },
  {
   "cell_type": "code",
   "execution_count": null,
   "metadata": {
    "colab": {
     "base_uri": "https://localhost:8080/"
    },
    "executionInfo": {
     "elapsed": 44283,
     "status": "ok",
     "timestamp": 1670941511036,
     "user": {
      "displayName": "Thể Phạm Đức",
      "userId": "09005724978234100310"
     },
     "user_tz": -420
    },
    "id": "X_Vi6N4FMnW4",
    "outputId": "b9b5eeb2-3d3a-4c30-ab09-db61998b0084"
   },
   "outputs": [],
   "source": [
    "%%time\n",
    "get_recommendation_based_on_user(1187, 10, LOCATION[0], 'pearson')"
   ]
  },
  {
   "cell_type": "code",
   "execution_count": null,
   "metadata": {
    "colab": {
     "base_uri": "https://localhost:8080/"
    },
    "executionInfo": {
     "elapsed": 43494,
     "status": "ok",
     "timestamp": 1670941554522,
     "user": {
      "displayName": "Thể Phạm Đức",
      "userId": "09005724978234100310"
     },
     "user_tz": -420
    },
    "id": "EaiH6EoXmKCc",
    "outputId": "9e5f65db-f08a-4897-a5be-e7428be2b1cb"
   },
   "outputs": [],
   "source": [
    "%%time\n",
    "get_recommendation_based_on_user(1187, 10, LOCATION[0], 'cosine')"
   ]
  },
  {
   "cell_type": "markdown",
   "metadata": {
    "id": "rqTxKJV56m0I"
   },
   "source": [
    "#### **Evaluating**"
   ]
  },
  {
   "cell_type": "code",
   "execution_count": null,
   "metadata": {
    "id": "wo6dE7hG8hJW"
   },
   "outputs": [],
   "source": [
    "# hàm dữ đoán trên tập test \n",
    "def get_recommendation_4test_user(test_user, number_of_user, similarity_name):\n",
    "  X_pred = []\n",
    "  X_test_location = test_user['Location'].tolist()\n",
    "  X_test_userid = test_user['UserID'].tolist()   #lấy ra danh sách các userID trong tập test \n",
    "  X_test_hotelID = test_user['HotelID'].tolist()\n",
    "\n",
    "  print(f\"------Dự đoán cho tập test với {len(X_test_userid)} điểm dữ liệu------\")\n",
    "  \n",
    "  for i in tqdm(range(len(X_test_userid))):        #lấy ra từng user\n",
    "    list_R = get_recommendation_based_on_user(X_test_userid[i], number_of_user, X_test_location[i], similarity_name)   #lất ra danh sách khuyến nghị cho mỗi USER \n",
    "    check = 0\n",
    "    for j in list_R:\n",
    "      if(X_test_hotelID[i] == j[1]):     #j[1] là lấy vị trí số 2 của 1 tuple \n",
    "        X_pred.append(j[2])\n",
    "        check = 1\n",
    "    if(check == 0):\n",
    "      X_pred.append(0)\n",
    "    # print(f'----- Đang dự đoán cho dòng thứ {i}/{len(X_test_userid)} là {X_pred[i]}')\n",
    "  return X_pred"
   ]
  },
  {
   "cell_type": "markdown",
   "metadata": {
    "id": "P0GQbuOwoi_v"
   },
   "source": [
    "##### Similarity = Cosine"
   ]
  },
  {
   "cell_type": "code",
   "execution_count": null,
   "metadata": {
    "colab": {
     "base_uri": "https://localhost:8080/"
    },
    "executionInfo": {
     "elapsed": 37558832,
     "status": "ok",
     "timestamp": 1670935181678,
     "user": {
      "displayName": "Thể Phạm Đức",
      "userId": "09005724978234100310"
     },
     "user_tz": -420
    },
    "id": "IbMmTmFP8l0P",
    "outputId": "764d0457-162f-4812-cd2e-0bede68ce933"
   },
   "outputs": [],
   "source": [
    "%%time\n",
    "number_of_user_cosine = 150\n",
    "X_test_pred_user_rating_cosine = get_recommendation_4test_user(ratings_test_user, number_of_user_cosine, 'cosine')"
   ]
  },
  {
   "cell_type": "code",
   "execution_count": null,
   "metadata": {
    "colab": {
     "base_uri": "https://localhost:8080/"
    },
    "executionInfo": {
     "elapsed": 150,
     "status": "ok",
     "timestamp": 1670935181680,
     "user": {
      "displayName": "Thể Phạm Đức",
      "userId": "09005724978234100310"
     },
     "user_tz": -420
    },
    "id": "o_Yx8XFeXTOH",
    "outputId": "db37a251-64ae-4443-c844-abeaa672967e"
   },
   "outputs": [],
   "source": [
    "len(X_test_pred_user_rating_cosine)"
   ]
  },
  {
   "cell_type": "code",
   "execution_count": null,
   "metadata": {
    "colab": {
     "base_uri": "https://localhost:8080/"
    },
    "executionInfo": {
     "elapsed": 99,
     "status": "ok",
     "timestamp": 1670935181681,
     "user": {
      "displayName": "Thể Phạm Đức",
      "userId": "09005724978234100310"
     },
     "user_tz": -420
    },
    "id": "SfjXAYMJXUrN",
    "outputId": "28683f26-7288-4c16-8d99-cf45e8b2bd0f"
   },
   "outputs": [],
   "source": [
    "X_test_pred_user_rating_cosine"
   ]
  },
  {
   "cell_type": "markdown",
   "metadata": {
    "id": "WsZqr2W5XFdM"
   },
   "source": [
    "###### MSE"
   ]
  },
  {
   "cell_type": "code",
   "execution_count": null,
   "metadata": {
    "colab": {
     "base_uri": "https://localhost:8080/"
    },
    "executionInfo": {
     "elapsed": 93,
     "status": "ok",
     "timestamp": 1670935181682,
     "user": {
      "displayName": "Thể Phạm Đức",
      "userId": "09005724978234100310"
     },
     "user_tz": -420
    },
    "id": "MSsyCTpCXFdQ",
    "outputId": "549c8359-9a33-45e0-bc04-42c58bd1ee1f"
   },
   "outputs": [],
   "source": [
    "mse = mean_squared_error(ratings_test_user.Rating , X_test_pred_user_rating_cosine)\n",
    "print('MSE =',mse)"
   ]
  },
  {
   "cell_type": "markdown",
   "metadata": {
    "id": "TRyLghDCXFdT"
   },
   "source": [
    "###### RMSE"
   ]
  },
  {
   "cell_type": "code",
   "execution_count": null,
   "metadata": {
    "colab": {
     "base_uri": "https://localhost:8080/"
    },
    "executionInfo": {
     "elapsed": 61,
     "status": "ok",
     "timestamp": 1670935181684,
     "user": {
      "displayName": "Thể Phạm Đức",
      "userId": "09005724978234100310"
     },
     "user_tz": -420
    },
    "id": "Kk28EcQmXFdV",
    "outputId": "190d982c-3174-4798-f272-9f175c247957"
   },
   "outputs": [],
   "source": [
    "rmse = math.sqrt(mse)\n",
    "print('RMSE =',rmse)"
   ]
  },
  {
   "cell_type": "markdown",
   "metadata": {
    "id": "hiCOYr1wXFdX"
   },
   "source": [
    "###### MAE"
   ]
  },
  {
   "cell_type": "code",
   "execution_count": null,
   "metadata": {
    "colab": {
     "base_uri": "https://localhost:8080/"
    },
    "executionInfo": {
     "elapsed": 59,
     "status": "ok",
     "timestamp": 1670935181684,
     "user": {
      "displayName": "Thể Phạm Đức",
      "userId": "09005724978234100310"
     },
     "user_tz": -420
    },
    "id": "cd7xmSK8XFda",
    "outputId": "92fb542a-6d40-4b44-9217-09985966f4e9"
   },
   "outputs": [],
   "source": [
    "mae = mean_absolute_error(ratings_test_user.Rating , X_test_pred_user_rating_cosine)\n",
    "print('MAE =',mae)"
   ]
  },
  {
   "cell_type": "markdown",
   "metadata": {
    "id": "O7MvKtJTXFdd"
   },
   "source": [
    "###### NMAE"
   ]
  },
  {
   "cell_type": "code",
   "execution_count": null,
   "metadata": {
    "colab": {
     "base_uri": "https://localhost:8080/"
    },
    "executionInfo": {
     "elapsed": 59,
     "status": "ok",
     "timestamp": 1670935181686,
     "user": {
      "displayName": "Thể Phạm Đức",
      "userId": "09005724978234100310"
     },
     "user_tz": -420
    },
    "id": "1auM67mrXFdf",
    "outputId": "600e24eb-c4a5-403d-e523-8ffb2993a8d8"
   },
   "outputs": [],
   "source": [
    "MAX = max(ratings_test_user['Rating'].tolist())\n",
    "MIN = min(ratings_test_user['Rating'].tolist())\n",
    "\n",
    "nmae = mae/(MAX-MIN)\n",
    "print('----- NMAE =',nmae)"
   ]
  },
  {
   "cell_type": "markdown",
   "metadata": {
    "id": "JkObxk8TbeGx"
   },
   "source": [
    "###### Save"
   ]
  },
  {
   "cell_type": "code",
   "execution_count": null,
   "metadata": {
    "colab": {
     "base_uri": "https://localhost:8080/",
     "height": 424
    },
    "executionInfo": {
     "elapsed": 68,
     "status": "ok",
     "timestamp": 1670935181697,
     "user": {
      "displayName": "Thể Phạm Đức",
      "userId": "09005724978234100310"
     },
     "user_tz": -420
    },
    "id": "_SA2zrcidGXj",
    "outputId": "548ea78d-d10f-4cfa-9565-4adbc57f29d1"
   },
   "outputs": [],
   "source": [
    "df_cf_user_cosine = pd.DataFrame({'UserID' : ratings_test_user['UserID'].tolist(), \n",
    "                                  'HotelID' : ratings_test_user['HotelID'].tolist(), \n",
    "                                  'Rating' : ratings_test_user['Rating'].tolist(), \n",
    "                                  'Rating Predict' : X_test_pred_user_rating_cosine})\n",
    "\n",
    "df_cf_user_cosine"
   ]
  },
  {
   "cell_type": "code",
   "execution_count": null,
   "metadata": {
    "id": "vV-Cv1Bcbkp9"
   },
   "outputs": [],
   "source": [
    "df_cf_user_cosine.to_csv(f'{PATH}/Result/result_cf_user_cosine_{number_of_user_cosine}.csv',index=False)"
   ]
  },
  {
   "cell_type": "markdown",
   "metadata": {
    "id": "v1u3ZP3touqZ"
   },
   "source": [
    "##### Similarity = Pearson"
   ]
  },
  {
   "cell_type": "code",
   "execution_count": null,
   "metadata": {
    "colab": {
     "base_uri": "https://localhost:8080/"
    },
    "executionInfo": {
     "elapsed": 34168334,
     "status": "ok",
     "timestamp": 1670975722830,
     "user": {
      "displayName": "Thể Phạm Đức",
      "userId": "09005724978234100310"
     },
     "user_tz": -420
    },
    "id": "nnpx3uwqouqh",
    "outputId": "25d2583c-671d-489c-ed2a-1025f662a260"
   },
   "outputs": [],
   "source": [
    "%%time\n",
    "number_of_user_pearson = 50\n",
    "X_test_pred_user_rating_pearson = get_recommendation_4test_user(ratings_test_user, number_of_user_pearson, 'pearson')"
   ]
  },
  {
   "cell_type": "code",
   "execution_count": null,
   "metadata": {
    "colab": {
     "base_uri": "https://localhost:8080/"
    },
    "executionInfo": {
     "elapsed": 746,
     "status": "ok",
     "timestamp": 1670975722863,
     "user": {
      "displayName": "Thể Phạm Đức",
      "userId": "09005724978234100310"
     },
     "user_tz": -420
    },
    "id": "xfilk6Hcouqh",
    "outputId": "0d3aa994-db55-459a-b180-56f8df34d34d"
   },
   "outputs": [],
   "source": [
    "len(X_test_pred_user_rating_pearson)"
   ]
  },
  {
   "cell_type": "code",
   "execution_count": null,
   "metadata": {
    "colab": {
     "base_uri": "https://localhost:8080/"
    },
    "executionInfo": {
     "elapsed": 503,
     "status": "ok",
     "timestamp": 1670975722881,
     "user": {
      "displayName": "Thể Phạm Đức",
      "userId": "09005724978234100310"
     },
     "user_tz": -420
    },
    "id": "T96CEAgHouqi",
    "outputId": "83f13239-c359-4375-d97a-d6077fd4441b"
   },
   "outputs": [],
   "source": [
    "X_test_pred_user_rating_pearson"
   ]
  },
  {
   "cell_type": "markdown",
   "metadata": {
    "id": "cE1cUoZeouql"
   },
   "source": [
    "###### MSE"
   ]
  },
  {
   "cell_type": "code",
   "execution_count": null,
   "metadata": {
    "colab": {
     "base_uri": "https://localhost:8080/"
    },
    "executionInfo": {
     "elapsed": 440,
     "status": "ok",
     "timestamp": 1670975722883,
     "user": {
      "displayName": "Thể Phạm Đức",
      "userId": "09005724978234100310"
     },
     "user_tz": -420
    },
    "id": "GKJdkWHJouqn",
    "outputId": "b0a6adc2-3555-482f-89bb-f354759730f5"
   },
   "outputs": [],
   "source": [
    "mse = mean_squared_error(ratings_test_user.Rating , X_test_pred_user_rating_pearson)\n",
    "print('MSE =',mse)"
   ]
  },
  {
   "cell_type": "markdown",
   "metadata": {
    "id": "WN3HsUBJouqo"
   },
   "source": [
    "###### RMSE"
   ]
  },
  {
   "cell_type": "code",
   "execution_count": null,
   "metadata": {
    "colab": {
     "base_uri": "https://localhost:8080/"
    },
    "executionInfo": {
     "elapsed": 224,
     "status": "ok",
     "timestamp": 1670975722883,
     "user": {
      "displayName": "Thể Phạm Đức",
      "userId": "09005724978234100310"
     },
     "user_tz": -420
    },
    "id": "btzpx4hVouqp",
    "outputId": "8c3270b8-615f-4320-ccef-a9ded4042db6"
   },
   "outputs": [],
   "source": [
    "rmse = math.sqrt(mse)\n",
    "print('RMSE =',rmse)"
   ]
  },
  {
   "cell_type": "markdown",
   "metadata": {
    "id": "jlKH2uRUouqr"
   },
   "source": [
    "###### MAE"
   ]
  },
  {
   "cell_type": "code",
   "execution_count": null,
   "metadata": {
    "colab": {
     "base_uri": "https://localhost:8080/"
    },
    "executionInfo": {
     "elapsed": 206,
     "status": "ok",
     "timestamp": 1670975722884,
     "user": {
      "displayName": "Thể Phạm Đức",
      "userId": "09005724978234100310"
     },
     "user_tz": -420
    },
    "id": "wGThl4c7ouqt",
    "outputId": "f490e565-872c-43e5-de74-2bef71fc7d96"
   },
   "outputs": [],
   "source": [
    "mae = mean_absolute_error(ratings_test_user.Rating , X_test_pred_user_rating_pearson)\n",
    "print('MAE =',mae)"
   ]
  },
  {
   "cell_type": "markdown",
   "metadata": {
    "id": "nRKsyPokouqu"
   },
   "source": [
    "###### NMAE"
   ]
  },
  {
   "cell_type": "code",
   "execution_count": null,
   "metadata": {
    "colab": {
     "base_uri": "https://localhost:8080/"
    },
    "executionInfo": {
     "elapsed": 203,
     "status": "ok",
     "timestamp": 1670975722884,
     "user": {
      "displayName": "Thể Phạm Đức",
      "userId": "09005724978234100310"
     },
     "user_tz": -420
    },
    "id": "3it_TX2Gouqv",
    "outputId": "d1cdcc7f-d36b-4a25-c88b-e162893521e1"
   },
   "outputs": [],
   "source": [
    "MAX = max(ratings_test_user['Rating'].tolist())\n",
    "MIN = min(ratings_test_user['Rating'].tolist())\n",
    "\n",
    "nmae = mae/(MAX-MIN)\n",
    "print('----- NMAE =',nmae)"
   ]
  },
  {
   "cell_type": "markdown",
   "metadata": {
    "id": "RQTbHX7oeKev"
   },
   "source": [
    "###### Save"
   ]
  },
  {
   "cell_type": "code",
   "execution_count": null,
   "metadata": {
    "colab": {
     "base_uri": "https://localhost:8080/",
     "height": 505
    },
    "executionInfo": {
     "elapsed": 203,
     "status": "ok",
     "timestamp": 1670975722885,
     "user": {
      "displayName": "Thể Phạm Đức",
      "userId": "09005724978234100310"
     },
     "user_tz": -420
    },
    "id": "SbKp9859eKex",
    "outputId": "9e3e2e61-3c2c-4dc5-b37a-2ffa51f5d70c"
   },
   "outputs": [],
   "source": [
    "df_cf_user_pearson = pd.DataFrame({'UserID' : ratings_test_user['UserID'].tolist(), \n",
    "                                  'HotelID' : ratings_test_user['HotelID'].tolist(), \n",
    "                                  'Rating' : ratings_test_user['Rating'].tolist(), \n",
    "                                  'Rating Predict' : X_test_pred_user_rating_pearson})\n",
    "\n",
    "df_cf_user_pearson"
   ]
  },
  {
   "cell_type": "code",
   "execution_count": null,
   "metadata": {
    "id": "E1IPl0xIeKey"
   },
   "outputs": [],
   "source": [
    "df_cf_user_pearson.to_csv(f'{PATH}/Result/result_cf_user_pearson_{number_of_user_pearson}.csv',index=False)"
   ]
  },
  {
   "cell_type": "markdown",
   "metadata": {
    "id": "zPz_KIrGy9EF"
   },
   "source": [
    "### **Based on Item**"
   ]
  },
  {
   "cell_type": "markdown",
   "metadata": {
    "id": "bx9zbzTn6hkx"
   },
   "source": [
    "#### **Modeling**"
   ]
  },
  {
   "cell_type": "code",
   "execution_count": null,
   "metadata": {
    "colab": {
     "base_uri": "https://localhost:8080/",
     "height": 519
    },
    "executionInfo": {
     "elapsed": 1584,
     "status": "ok",
     "timestamp": 1670978201852,
     "user": {
      "displayName": "Thể Phạm Đức",
      "userId": "09005724978234100310"
     },
     "user_tz": -420
    },
    "id": "wd-7CZMVmgEX",
    "outputId": "fc1aaa73-1fdf-46c2-db50-e0865580e3bc"
   },
   "outputs": [],
   "source": [
    "# Chuyển bảng ratings sang dataframe với các cột là \"hotelId\" và các hàng là \"userId\" (*)\n",
    "ratings_item_df = ratings_item.pivot_table(columns='HotelID', index='UserID')['Rating'].fillna(0)\n",
    "ratings_item_df"
   ]
  },
  {
   "cell_type": "code",
   "execution_count": null,
   "metadata": {
    "id": "PkKRaSnfX7bm"
   },
   "outputs": [],
   "source": [
    "# Lấy ra rating của 1 user cho 1 hotel\n",
    "def get_rating_item(userid, hotelid):\n",
    "  return (ratings_item.loc[(ratings_item.UserID==userid) & (ratings_item.HotelID==hotelid), 'Rating'].iloc[0])"
   ]
  },
  {
   "cell_type": "code",
   "execution_count": null,
   "metadata": {
    "colab": {
     "base_uri": "https://localhost:8080/"
    },
    "executionInfo": {
     "elapsed": 23,
     "status": "ok",
     "timestamp": 1670978201865,
     "user": {
      "displayName": "Thể Phạm Đức",
      "userId": "09005724978234100310"
     },
     "user_tz": -420
    },
    "id": "e3Gouy26X_Z-",
    "outputId": "c4b70929-2032-46eb-e138-de7a9b9dd329"
   },
   "outputs": [],
   "source": [
    "get_rating_item(2190,135)"
   ]
  },
  {
   "cell_type": "code",
   "execution_count": null,
   "metadata": {
    "id": "L4U1nlEImgHo"
   },
   "outputs": [],
   "source": [
    "def pearson_correlation_score_hotel(hotel1, hotel2, location):\n",
    "  both_rating_count = []\n",
    "  list_user_hotel1 = ratings_item.loc[(ratings_item.HotelID == hotel1)&(ratings_item.Location == location), 'UserID'].to_list()\n",
    "  list_user_hotel2 = ratings_item.loc[(ratings_item.HotelID == hotel2)&(ratings_item.Location == location), 'UserID'].to_list()\n",
    "\n",
    "  for userid in list_user_hotel1:\n",
    "    if userid in list_user_hotel2:\n",
    "      both_rating_count.append(userid)\n",
    "  \n",
    "  if len(both_rating_count)==0:\n",
    "    return 0\n",
    "\n",
    "  avg_rating_1 = np.average([get_rating_item(i, hotel1) for i in both_rating_count]) # rating trung bình user1\n",
    "  avg_rating_2 = np.average([get_rating_item(i, hotel2) for i in both_rating_count]) # rating trung bình user2\n",
    "\n",
    "  TuSo = sum([(get_rating_item(i, hotel1) - avg_rating_1)*(get_rating_item(i, hotel2) - avg_rating_2) for i in both_rating_count])\n",
    "  MauSo = sqrt(sum((get_rating_item(i, hotel1) - avg_rating_1)**2 for i in both_rating_count))*sqrt(sum((get_rating_item(i, hotel2) - avg_rating_2)**2 for i in both_rating_count))\n",
    "\n",
    "  if MauSo==0:\n",
    "    return 0\n",
    "  \n",
    "  return TuSo/MauSo"
   ]
  },
  {
   "cell_type": "code",
   "execution_count": null,
   "metadata": {
    "colab": {
     "base_uri": "https://localhost:8080/"
    },
    "executionInfo": {
     "elapsed": 351,
     "status": "ok",
     "timestamp": 1670978202196,
     "user": {
      "displayName": "Thể Phạm Đức",
      "userId": "09005724978234100310"
     },
     "user_tz": -420
    },
    "id": "ivmkl3I2mxBC",
    "outputId": "86594dea-2d30-45a3-8e96-a450db1576d5"
   },
   "outputs": [],
   "source": [
    "pearson_correlation_score_hotel(40,31, LOCATION[0])"
   ]
  },
  {
   "cell_type": "code",
   "execution_count": null,
   "metadata": {
    "id": "YA2bZA2jtlc6"
   },
   "outputs": [],
   "source": [
    "def distance_similarity_score_hotel(hotel1, hotel2, location):\n",
    "  both_rating_count = 0\n",
    "  list_user_hotel1 = ratings_item.loc[(ratings_item.HotelID == hotel1)&(ratings_item.Location == location), 'UserID'].tolist()\n",
    "  list_user_hotel2 = ratings_item.loc[(ratings_item.HotelID == hotel2)&(ratings_item.Location == location), 'UserID'].tolist()\n",
    "\n",
    "  for userid in list_user_hotel1:\n",
    "    if userid in list_user_hotel2:\n",
    "      both_rating_count += 1\n",
    "  \n",
    "  if both_rating_count == 0:\n",
    "    return 0\n",
    "\n",
    "  rating1 = []\n",
    "  rating2 = []\n",
    "\n",
    "  for userid in list_user_hotel1:\n",
    "    if userid in list_user_hotel2:\n",
    "      rating1.append(get_rating_item(userid, hotel1))\n",
    "      rating2.append(get_rating_item(userid, hotel1))\n",
    "  \n",
    "  # print(rating1)\n",
    "  # print(rating2)\n",
    "\n",
    "  return dot(rating1, rating2)/(norm(rating1)*norm(rating2))"
   ]
  },
  {
   "cell_type": "code",
   "execution_count": null,
   "metadata": {
    "colab": {
     "base_uri": "https://localhost:8080/"
    },
    "executionInfo": {
     "elapsed": 24,
     "status": "ok",
     "timestamp": 1670978202197,
     "user": {
      "displayName": "Thể Phạm Đức",
      "userId": "09005724978234100310"
     },
     "user_tz": -420
    },
    "id": "OAvz1WsStlc7",
    "outputId": "cdb104c3-46fa-45fb-d68d-7f878dd835b9"
   },
   "outputs": [],
   "source": [
    "print('Distance based similarity between hotel ids X & u1: {}'.format(distance_similarity_score_hotel(40, 20, LOCATION[0])))\n",
    "print('Distance based similarity between hotel ids X & u2: {}'.format(distance_similarity_score_hotel(42, 5, LOCATION[1])))\n",
    "print('Distance based similarity between hotel ids X & u3: {}'.format(distance_similarity_score_hotel(43, 20, LOCATION[0])))"
   ]
  },
  {
   "cell_type": "code",
   "execution_count": null,
   "metadata": {
    "id": "ZN7OuHCTtQIb"
   },
   "outputs": [],
   "source": [
    "def most_similar_hotel(hotel1, number_of_hotel, location, similarity_name):\n",
    "  hotelid = ratings_item.HotelID.unique().tolist()\n",
    "  # print(len(hotelid))\n",
    "\n",
    "  if similarity_name == 'pearson':\n",
    "    similarity_score =  [(pearson_correlation_score_hotel(hotel1, hotel_i, location), hotel_i) for hotel_i in hotelid if hotel_i != hotel1]\n",
    "\n",
    "  if similarity_name == 'cosine':\n",
    "    similarity_score =  [(distance_similarity_score_hotel(hotel1, hotel_i, location), hotel_i) for hotel_i in hotelid if hotel_i != hotel1]\n",
    "\n",
    "  similarity_score.sort() # Tăng dần\n",
    "  similarity_score.reverse() # Giảm dần\n",
    "\n",
    "  return similarity_score[:number_of_hotel] # Có thể thay đổi số lượng lân cận"
   ]
  },
  {
   "cell_type": "code",
   "execution_count": null,
   "metadata": {
    "colab": {
     "base_uri": "https://localhost:8080/"
    },
    "executionInfo": {
     "elapsed": 34568,
     "status": "ok",
     "timestamp": 1670978236745,
     "user": {
      "displayName": "Thể Phạm Đức",
      "userId": "09005724978234100310"
     },
     "user_tz": -420
    },
    "id": "WPeWsWh-Up2K",
    "outputId": "40f66158-625d-448a-8a38-15dfe927f9e7"
   },
   "outputs": [],
   "source": [
    "%%time\n",
    "list_hotel_popular = most_similar_hotel(4, 10, LOCATION[2], \"pearson\")\n",
    "list_hotel_popular"
   ]
  },
  {
   "cell_type": "code",
   "execution_count": null,
   "metadata": {
    "id": "qkrDKnijVZEU"
   },
   "outputs": [],
   "source": [
    "# Danh sách các user đã rating cho khách sạn\n",
    "def get_userids(hotelid):\n",
    "  return (ratings_item.loc[(ratings_item.HotelID==hotelid), 'UserID'].tolist())"
   ]
  },
  {
   "cell_type": "code",
   "execution_count": null,
   "metadata": {
    "colab": {
     "base_uri": "https://localhost:8080/"
    },
    "executionInfo": {
     "elapsed": 13,
     "status": "ok",
     "timestamp": 1670978236747,
     "user": {
      "displayName": "Thể Phạm Đức",
      "userId": "09005724978234100310"
     },
     "user_tz": -420
    },
    "id": "hyDFoTZBen3a",
    "outputId": "72972476-b0c2-4125-c369-2ca1a46b6327"
   },
   "outputs": [],
   "source": [
    "print(get_userids(50))"
   ]
  },
  {
   "cell_type": "code",
   "execution_count": null,
   "metadata": {
    "id": "W_L7et89fAZR"
   },
   "outputs": [],
   "source": [
    "# Lấy ra danh sách khuyến nghị từ top populars\n",
    "def get_recommendation_based_on_item(hotelid, number_of_hotel, location, similarity_name):# topN,\n",
    "  total = {}\n",
    "  sum_similarity = {}\n",
    "  list_hotel_popular = most_similar_hotel(hotelid, number_of_hotel, location, similarity_name)\n",
    "\n",
    "  # Iterating over subset of hotel ids.\n",
    "  for similarityName, hotel in list_hotel_popular:\n",
    "    score = similarityName\n",
    "    userids = get_userids(hotel)\n",
    "    for userid in userids: # -> Danh sách các id user đã đánh giá khách sạn khác và khởi tạo giá trị = 0\n",
    "      if userid not in get_userids(hotelid):\n",
    "        total[userid] = 0\n",
    "        sum_similarity[userid] = 0\n",
    "\n",
    "    for userid in userids: #-> Danh sách các id user đã đánh giá khách sạn khác\n",
    "      if userid not in get_userids(hotelid):\n",
    "        total[userid] += get_rating_item(userid, hotel)*score\n",
    "        sum_similarity[userid] += score\n",
    "\n",
    "  # Normalizing ratings\n",
    "  ranking = []\n",
    "  for userid,tot in total.items():\n",
    "    if sum_similarity[userid] == 0:\n",
    "      ranking.append((0,userid))\n",
    "    else:\n",
    "      rating = tot/(sum_similarity[userid])\n",
    "      ranking.append((rating,userid))\n",
    "  # ranking = [(tot/sum_similarity[userid], userid) for userid, tot in total.items()]\n",
    "  ranking.sort()\n",
    "  ranking.reverse()\n",
    "\n",
    "  return ranking#[:topN]"
   ]
  },
  {
   "cell_type": "code",
   "execution_count": null,
   "metadata": {
    "colab": {
     "base_uri": "https://localhost:8080/"
    },
    "executionInfo": {
     "elapsed": 26752,
     "status": "ok",
     "timestamp": 1670978263491,
     "user": {
      "displayName": "Thể Phạm Đức",
      "userId": "09005724978234100310"
     },
     "user_tz": -420
    },
    "id": "uvxC43-FfJZy",
    "outputId": "8d89a14a-74c7-4184-be99-c43824e877c7"
   },
   "outputs": [],
   "source": [
    "%%time\n",
    "get_recommendation_based_on_item(8, 10, LOCATION[1], 'pearson')"
   ]
  },
  {
   "cell_type": "code",
   "execution_count": null,
   "metadata": {
    "colab": {
     "base_uri": "https://localhost:8080/"
    },
    "executionInfo": {
     "elapsed": 26597,
     "status": "ok",
     "timestamp": 1670978290084,
     "user": {
      "displayName": "Thể Phạm Đức",
      "userId": "09005724978234100310"
     },
     "user_tz": -420
    },
    "id": "DjlhnMwDYx88",
    "outputId": "31325810-cea5-4ecd-f72c-151b54adc31a"
   },
   "outputs": [],
   "source": [
    "%%time\n",
    "get_recommendation_based_on_item(8, 10, LOCATION[1], 'cosine')"
   ]
  },
  {
   "cell_type": "markdown",
   "metadata": {
    "id": "tooA4Trj5R8v"
   },
   "source": [
    "#### **Evaluating**"
   ]
  },
  {
   "cell_type": "code",
   "execution_count": null,
   "metadata": {
    "id": "MKvRf6pz5R80"
   },
   "outputs": [],
   "source": [
    "# hàm dữ đoán trên tập test \n",
    "def get_recommendation_4test_item(test_item, number_of_hotel, similarity_name):\n",
    "  X_pred = []\n",
    "  X_test_location = test_item['Location'].tolist()\n",
    "  X_test_userid = test_item['UserID'].tolist()   #lấy ra danh sách các userID trong tập test \n",
    "  X_test_hotelID = test_item['HotelID'].tolist()\n",
    "\n",
    "  print(f\"------Dự đoán cho tập test với {len(X_test_userid)} điểm dữ liệu------\")\n",
    "  \n",
    "  for i in tqdm(range(len(X_test_hotelID))):        #lấy ra từng user\n",
    "    list_R = get_recommendation_based_on_item(X_test_hotelID[i], number_of_hotel, X_test_location[i], similarity_name)   #lất ra danh sách khuyến nghị cho mỗi USER \n",
    "    check = 0\n",
    "    for j in list_R:\n",
    "      if(X_test_userid[i] == j[1]):     #j[1] là lấy vị trí số 2 của 1 tuple \n",
    "        X_pred.append(j[0])\n",
    "        check = 1\n",
    "    if(check == 0):\n",
    "      X_pred.append(0)\n",
    "    # print(f'----- Đang dự đoán cho dòng thứ {i}/{len(X_test_userid)} là {X_pred[i]}')\n",
    "  return X_pred"
   ]
  },
  {
   "cell_type": "code",
   "execution_count": null,
   "metadata": {
    "colab": {
     "base_uri": "https://localhost:8080/",
     "height": 641
    },
    "executionInfo": {
     "elapsed": 12,
     "status": "ok",
     "timestamp": 1670985123847,
     "user": {
      "displayName": "Thể Phạm Đức",
      "userId": "09005724978234100310"
     },
     "user_tz": -420
    },
    "id": "Rd4ViqaKJdwu",
    "outputId": "50f6ed41-03c2-4028-d7a8-6ba3ffa67346"
   },
   "outputs": [],
   "source": [
    "ratings_test_item_new = ratings_test_item[0:500]\n",
    "ratings_test_item_new"
   ]
  },
  {
   "cell_type": "markdown",
   "metadata": {
    "id": "5Gl0h2cg5R8x"
   },
   "source": [
    "##### Similarity = Cosine"
   ]
  },
  {
   "cell_type": "code",
   "execution_count": null,
   "metadata": {
    "colab": {
     "base_uri": "https://localhost:8080/"
    },
    "executionInfo": {
     "elapsed": 13569606,
     "status": "ok",
     "timestamp": 1670998699641,
     "user": {
      "displayName": "Thể Phạm Đức",
      "userId": "09005724978234100310"
     },
     "user_tz": -420
    },
    "id": "J0-eZiWN5R84",
    "outputId": "12387f2f-08f1-4343-aab4-3b38ab665c57"
   },
   "outputs": [],
   "source": [
    "%%time\n",
    "number_of_hotel_cosine = 90\n",
    "X_test_pred_item_rating_cosine = get_recommendation_4test_item(ratings_test_item_new, number_of_hotel_cosine, 'cosine')"
   ]
  },
  {
   "cell_type": "code",
   "execution_count": null,
   "metadata": {
    "colab": {
     "base_uri": "https://localhost:8080/"
    },
    "executionInfo": {
     "elapsed": 494,
     "status": "ok",
     "timestamp": 1670998699643,
     "user": {
      "displayName": "Thể Phạm Đức",
      "userId": "09005724978234100310"
     },
     "user_tz": -420
    },
    "id": "mL-O3LtW5R86",
    "outputId": "763e2308-8eb0-4ed9-d34b-cb24d102f6f1"
   },
   "outputs": [],
   "source": [
    "len(X_test_pred_item_rating_cosine)"
   ]
  },
  {
   "cell_type": "code",
   "execution_count": null,
   "metadata": {
    "colab": {
     "base_uri": "https://localhost:8080/"
    },
    "executionInfo": {
     "elapsed": 489,
     "status": "ok",
     "timestamp": 1670998699644,
     "user": {
      "displayName": "Thể Phạm Đức",
      "userId": "09005724978234100310"
     },
     "user_tz": -420
    },
    "id": "Tdg9d0fJ5R87",
    "outputId": "68b23d66-9ba0-4c59-a2d5-4042897e8385"
   },
   "outputs": [],
   "source": [
    "X_test_pred_item_rating_cosine"
   ]
  },
  {
   "cell_type": "markdown",
   "metadata": {
    "id": "Osai1Glq5R88"
   },
   "source": [
    "###### MSE"
   ]
  },
  {
   "cell_type": "code",
   "execution_count": null,
   "metadata": {
    "colab": {
     "base_uri": "https://localhost:8080/"
    },
    "executionInfo": {
     "elapsed": 105,
     "status": "ok",
     "timestamp": 1670998699645,
     "user": {
      "displayName": "Thể Phạm Đức",
      "userId": "09005724978234100310"
     },
     "user_tz": -420
    },
    "id": "H182Tuax5R89",
    "outputId": "b2b5573c-52eb-4ec1-aea4-aa6614120c35"
   },
   "outputs": [],
   "source": [
    "mse = mean_squared_error(ratings_test_item_new.Rating , X_test_pred_item_rating_cosine)\n",
    "print('MSE =',mse)"
   ]
  },
  {
   "cell_type": "markdown",
   "metadata": {
    "id": "L_p6Y0zL5R89"
   },
   "source": [
    "###### RMSE"
   ]
  },
  {
   "cell_type": "code",
   "execution_count": null,
   "metadata": {
    "colab": {
     "base_uri": "https://localhost:8080/"
    },
    "executionInfo": {
     "elapsed": 33,
     "status": "ok",
     "timestamp": 1670998699647,
     "user": {
      "displayName": "Thể Phạm Đức",
      "userId": "09005724978234100310"
     },
     "user_tz": -420
    },
    "id": "0EbYUUUj5R8-",
    "outputId": "4f2b0a99-0dd0-4d11-b13c-e2e190d4d57a"
   },
   "outputs": [],
   "source": [
    "rmse = math.sqrt(mse)\n",
    "print('RMSE =',rmse)"
   ]
  },
  {
   "cell_type": "markdown",
   "metadata": {
    "id": "4XVKJsG45R8-"
   },
   "source": [
    "###### MAE"
   ]
  },
  {
   "cell_type": "code",
   "execution_count": null,
   "metadata": {
    "colab": {
     "base_uri": "https://localhost:8080/"
    },
    "executionInfo": {
     "elapsed": 31,
     "status": "ok",
     "timestamp": 1670998699648,
     "user": {
      "displayName": "Thể Phạm Đức",
      "userId": "09005724978234100310"
     },
     "user_tz": -420
    },
    "id": "fPR9G0oA5R9A",
    "outputId": "dda795d6-95b3-4306-ba5c-ecb80cf53e4a"
   },
   "outputs": [],
   "source": [
    "mae = mean_absolute_error(ratings_test_item_new.Rating , X_test_pred_item_rating_cosine)\n",
    "print('MAE =',mae)"
   ]
  },
  {
   "cell_type": "markdown",
   "metadata": {
    "id": "WK4CR4jW5R9C"
   },
   "source": [
    "###### NMAE"
   ]
  },
  {
   "cell_type": "code",
   "execution_count": null,
   "metadata": {
    "colab": {
     "base_uri": "https://localhost:8080/"
    },
    "executionInfo": {
     "elapsed": 30,
     "status": "ok",
     "timestamp": 1670998699648,
     "user": {
      "displayName": "Thể Phạm Đức",
      "userId": "09005724978234100310"
     },
     "user_tz": -420
    },
    "id": "t8AUqbjO5R9D",
    "outputId": "e76cfbc8-38b9-449f-8f0b-b0ce1d700943"
   },
   "outputs": [],
   "source": [
    "MAX = max(ratings_test_item_new['Rating'].tolist())\n",
    "MIN = min(ratings_test_item_new['Rating'].tolist())\n",
    "\n",
    "nmae = mae/(MAX-MIN)\n",
    "print('----- NMAE =',nmae)"
   ]
  },
  {
   "cell_type": "markdown",
   "metadata": {
    "id": "Or1_g1csf9dK"
   },
   "source": [
    "###### Save"
   ]
  },
  {
   "cell_type": "code",
   "execution_count": null,
   "metadata": {
    "colab": {
     "base_uri": "https://localhost:8080/",
     "height": 424
    },
    "executionInfo": {
     "elapsed": 10,
     "status": "ok",
     "timestamp": 1670999925234,
     "user": {
      "displayName": "Thể Phạm Đức",
      "userId": "09005724978234100310"
     },
     "user_tz": -420
    },
    "id": "kZss3CfYOe3r",
    "outputId": "7466e4b4-f05e-47de-dea0-457af2cd37df"
   },
   "outputs": [],
   "source": [
    "df_cf_item_cosine = pd.DataFrame({'UserID' : ratings_test_item_new['UserID'].tolist(), \n",
    "                                  'HotelID' : ratings_test_item_new['HotelID'].tolist(), \n",
    "                                  'Rating' : ratings_test_item_new['Rating'].tolist(), \n",
    "                                  'Rating Predict' : X_test_pred_item_rating_cosine})\n",
    "\n",
    "df_cf_item_cosine"
   ]
  },
  {
   "cell_type": "code",
   "execution_count": null,
   "metadata": {
    "id": "c7MOi5Hyf9dS"
   },
   "outputs": [],
   "source": [
    "df_cf_item_cosine.to_csv(f'{PATH}/Result/result_cf_item_cosine_{number_of_hotel_cosine}.csv',index=False)"
   ]
  },
  {
   "cell_type": "markdown",
   "metadata": {
    "id": "ncjeOXuE5R9D"
   },
   "source": [
    "##### Similarity = Pearson"
   ]
  },
  {
   "cell_type": "code",
   "execution_count": null,
   "metadata": {
    "colab": {
     "base_uri": "https://localhost:8080/"
    },
    "executionInfo": {
     "elapsed": 13916506,
     "status": "ok",
     "timestamp": 1671013851107,
     "user": {
      "displayName": "Thể Phạm Đức",
      "userId": "09005724978234100310"
     },
     "user_tz": -420
    },
    "id": "zCGl9bA65R9F",
    "outputId": "40154ba4-88c3-412f-f19c-6177bc94f20d"
   },
   "outputs": [],
   "source": [
    "%%time\n",
    "number_of_hotel_pearson = 10\n",
    "X_test_pred_item_rating_pearson = get_recommendation_4test_item(ratings_test_item_new, number_of_hotel_pearson, 'pearson')"
   ]
  },
  {
   "cell_type": "code",
   "execution_count": null,
   "metadata": {
    "colab": {
     "base_uri": "https://localhost:8080/"
    },
    "executionInfo": {
     "elapsed": 326,
     "status": "ok",
     "timestamp": 1671013851109,
     "user": {
      "displayName": "Thể Phạm Đức",
      "userId": "09005724978234100310"
     },
     "user_tz": -420
    },
    "id": "8O7YPZ9A5R9J",
    "outputId": "c1f44022-0807-4818-a1d5-04580a6f98e9"
   },
   "outputs": [],
   "source": [
    "len(X_test_pred_item_rating_pearson)"
   ]
  },
  {
   "cell_type": "code",
   "execution_count": null,
   "metadata": {
    "colab": {
     "base_uri": "https://localhost:8080/"
    },
    "executionInfo": {
     "elapsed": 305,
     "status": "ok",
     "timestamp": 1671013851111,
     "user": {
      "displayName": "Thể Phạm Đức",
      "userId": "09005724978234100310"
     },
     "user_tz": -420
    },
    "id": "h-d1Wmir5R9J",
    "outputId": "3e3b1537-c3b7-4a71-f224-76a92a80eb6a"
   },
   "outputs": [],
   "source": [
    "X_test_pred_item_rating_pearson"
   ]
  },
  {
   "cell_type": "markdown",
   "metadata": {
    "id": "7kQw934_5R9J"
   },
   "source": [
    "###### MSE"
   ]
  },
  {
   "cell_type": "code",
   "execution_count": null,
   "metadata": {
    "colab": {
     "base_uri": "https://localhost:8080/"
    },
    "executionInfo": {
     "elapsed": 248,
     "status": "ok",
     "timestamp": 1671013851112,
     "user": {
      "displayName": "Thể Phạm Đức",
      "userId": "09005724978234100310"
     },
     "user_tz": -420
    },
    "id": "M49Hc7RW5R9K",
    "outputId": "44bc8a34-6392-4964-bb4b-40a2c8f3096a"
   },
   "outputs": [],
   "source": [
    "mse = mean_squared_error(ratings_test_item_new.Rating , X_test_pred_item_rating_pearson)\n",
    "print('MSE =',mse)"
   ]
  },
  {
   "cell_type": "markdown",
   "metadata": {
    "id": "2eoOBxLi5R9P"
   },
   "source": [
    "###### RMSE"
   ]
  },
  {
   "cell_type": "code",
   "execution_count": null,
   "metadata": {
    "colab": {
     "base_uri": "https://localhost:8080/"
    },
    "executionInfo": {
     "elapsed": 227,
     "status": "ok",
     "timestamp": 1671013851128,
     "user": {
      "displayName": "Thể Phạm Đức",
      "userId": "09005724978234100310"
     },
     "user_tz": -420
    },
    "id": "NrDfSLCA5R9Q",
    "outputId": "50b07ecc-3026-4b0c-db1d-4424664e61e7"
   },
   "outputs": [],
   "source": [
    "rmse = math.sqrt(mse)\n",
    "print('RMSE =',rmse)"
   ]
  },
  {
   "cell_type": "markdown",
   "metadata": {
    "id": "Ov9bwrhz5R9R"
   },
   "source": [
    "###### MAE"
   ]
  },
  {
   "cell_type": "code",
   "execution_count": null,
   "metadata": {
    "colab": {
     "base_uri": "https://localhost:8080/"
    },
    "executionInfo": {
     "elapsed": 226,
     "status": "ok",
     "timestamp": 1671013851129,
     "user": {
      "displayName": "Thể Phạm Đức",
      "userId": "09005724978234100310"
     },
     "user_tz": -420
    },
    "id": "9tUaL45C5R9R",
    "outputId": "3150d0d9-70df-4dfb-cfd1-b1fa2c9cab5f"
   },
   "outputs": [],
   "source": [
    "mae = mean_absolute_error(ratings_test_item_new.Rating , X_test_pred_item_rating_pearson)\n",
    "print('MAE =',mae)"
   ]
  },
  {
   "cell_type": "markdown",
   "metadata": {
    "id": "23yj8QA55R9S"
   },
   "source": [
    "###### NMAE"
   ]
  },
  {
   "cell_type": "code",
   "execution_count": null,
   "metadata": {
    "colab": {
     "base_uri": "https://localhost:8080/"
    },
    "executionInfo": {
     "elapsed": 224,
     "status": "ok",
     "timestamp": 1671013851130,
     "user": {
      "displayName": "Thể Phạm Đức",
      "userId": "09005724978234100310"
     },
     "user_tz": -420
    },
    "id": "xQfmuOJb5R9S",
    "outputId": "834401e8-314e-4f4f-9caf-040e835933c4"
   },
   "outputs": [],
   "source": [
    "MAX = max(ratings_test_item_new['Rating'].tolist())\n",
    "MIN = min(ratings_test_item_new['Rating'].tolist())\n",
    "\n",
    "nmae = mae/(MAX-MIN)\n",
    "print('----- NMAE =',nmae)"
   ]
  },
  {
   "cell_type": "markdown",
   "metadata": {
    "id": "XY0MQrf5ejj1"
   },
   "source": [
    "###### Save"
   ]
  },
  {
   "cell_type": "code",
   "execution_count": null,
   "metadata": {
    "colab": {
     "base_uri": "https://localhost:8080/",
     "height": 424
    },
    "executionInfo": {
     "elapsed": 13,
     "status": "ok",
     "timestamp": 1671014165376,
     "user": {
      "displayName": "Thể Phạm Đức",
      "userId": "09005724978234100310"
     },
     "user_tz": -420
    },
    "id": "ui6JTWx6OiwR",
    "outputId": "5a69cfea-f632-4b0a-8ed7-7e5b9834b9e0"
   },
   "outputs": [],
   "source": [
    "df_cf_item_pearson = pd.DataFrame({'UserID' : ratings_test_item_new['UserID'].tolist(), \n",
    "                                  'HotelID' : ratings_test_item_new['HotelID'].tolist(), \n",
    "                                  'Rating' : ratings_test_item_new['Rating'].tolist(), \n",
    "                                  'Rating Predict' : X_test_pred_item_rating_pearson})\n",
    "\n",
    "df_cf_item_pearson"
   ]
  },
  {
   "cell_type": "code",
   "execution_count": null,
   "metadata": {
    "id": "JgRvKUZ9ejj3"
   },
   "outputs": [],
   "source": [
    "df_cf_item_pearson.to_csv(f'{PATH}/Result/result_cf_item_pearson_{number_of_hotel_pearson}.csv',index=False)"
   ]
  },
  {
   "cell_type": "markdown",
   "metadata": {
    "id": "bQ-pkK3N3eSX"
   },
   "source": [
    "## **Content-based Filtering**"
   ]
  },
  {
   "cell_type": "code",
   "execution_count": null,
   "metadata": {
    "colab": {
     "base_uri": "https://localhost:8080/"
    },
    "executionInfo": {
     "elapsed": 7499,
     "status": "ok",
     "timestamp": 1670813247798,
     "user": {
      "displayName": "Thể Phạm Đức",
      "userId": "09005724978234100310"
     },
     "user_tz": -420
    },
    "id": "CzUUsTbetoL8",
    "outputId": "611636b9-eecb-420c-fec0-bc76d76844df"
   },
   "outputs": [],
   "source": [
    "ratings"
   ]
  },
  {
   "cell_type": "markdown",
   "metadata": {
    "id": "mni2eE77-1X2"
   },
   "source": [
    "### Pre-processing data"
   ]
  },
  {
   "cell_type": "code",
   "execution_count": null,
   "metadata": {
    "id": "SpOMJVTXtoL8"
   },
   "outputs": [],
   "source": [
    "def get_stopwords_list(stop_file_path):\n",
    "    \"\"\"load stop words \"\"\"\n",
    "    with open(stop_file_path, 'r', encoding=\"utf-8\") as f:\n",
    "        stopwords = f.readlines()\n",
    "        stop_set = set(m.strip() for m in stopwords)\n",
    "        return list(frozenset(stop_set))"
   ]
  },
  {
   "cell_type": "code",
   "execution_count": null,
   "metadata": {
    "id": "sk8y21C7toL9"
   },
   "outputs": [],
   "source": [
    "stopwords_path = PATH+\"vietnamese.txt\"\n",
    "stopwords = get_stopwords_list(stopwords_path)"
   ]
  },
  {
   "cell_type": "code",
   "execution_count": null,
   "metadata": {
    "id": "v1ueumWntoL9"
   },
   "outputs": [],
   "source": [
    "# viết hàm tiền xử lý dữ liệu trên cột overview\n",
    "def proccessing_data(data):\n",
    "  #- chuyển về từ thường\n",
    "  data = data.lower()\n",
    "  #- Xóa dấu câu, ký tự đặc biệt\n",
    "  data = re.sub('\\W+',' ', data)\n",
    "  #- xóa stopword\n",
    "  data =  ' '.join([word for word in data.split() if word not in stopwords])\n",
    "  #- tách từ\n",
    "  #data = word_tokenize(data)\n",
    "  #- nối câu\n",
    "  #data =  ' '.join([word for word in data])\n",
    "  return data"
   ]
  },
  {
   "cell_type": "code",
   "execution_count": null,
   "metadata": {
    "colab": {
     "base_uri": "https://localhost:8080/"
    },
    "executionInfo": {
     "elapsed": 231710,
     "status": "ok",
     "timestamp": 1670813472087,
     "user": {
      "displayName": "Thể Phạm Đức",
      "userId": "09005724978234100310"
     },
     "user_tz": -420
    },
    "id": "3BwzLKj5toL9",
    "outputId": "73ea299b-4378-4d0f-b6dd-9d74763e5611"
   },
   "outputs": [],
   "source": [
    "for i in tqdm(range(0,len(ratings))):\n",
    "  try:\n",
    "    ratings['Descriptions'][i] = proccessing_data(ratings['Descriptions'][i])\n",
    "  except Exception as ex:\n",
    "    print(ratings['Descriptions'][i])"
   ]
  },
  {
   "cell_type": "code",
   "execution_count": null,
   "metadata": {
    "colab": {
     "base_uri": "https://localhost:8080/",
     "height": 424
    },
    "executionInfo": {
     "elapsed": 189,
     "status": "ok",
     "timestamp": 1670813472089,
     "user": {
      "displayName": "Thể Phạm Đức",
      "userId": "09005724978234100310"
     },
     "user_tz": -420
    },
    "id": "fXLXd_ZCyJKJ",
    "outputId": "fd82e615-10e9-4f35-c901-d0d50f588066"
   },
   "outputs": [],
   "source": [
    "hotels = pd.concat([ratings['HotelID'], \n",
    "                    ratings['Name Hotel'], \n",
    "                    ratings['Location'], \n",
    "                    ratings['Descriptions'], \n",
    "                    ratings['Address']], \n",
    "                   axis=1, keys=['HotelID', 'Name Hotel', 'Location', \n",
    "                                 'Descriptions', 'Address'])\n",
    "\n",
    "hotels.drop_duplicates(inplace = True)  \n",
    "hotels.sort_values(by=['HotelID'], inplace=True)\n",
    "hotels.reset_index(inplace=True)\n",
    "del hotels['index']\n",
    "hotels"
   ]
  },
  {
   "cell_type": "code",
   "execution_count": null,
   "metadata": {
    "colab": {
     "base_uri": "https://localhost:8080/"
    },
    "executionInfo": {
     "elapsed": 41398,
     "status": "ok",
     "timestamp": 1670813513311,
     "user": {
      "displayName": "Thể Phạm Đức",
      "userId": "09005724978234100310"
     },
     "user_tz": -420
    },
    "id": "rd1y1R5St_1B",
    "outputId": "6e4d5e89-e46a-4246-f924-360544351861"
   },
   "outputs": [],
   "source": [
    "for i in tqdm(range(0,len(hotels_merge))):\n",
    "  try:\n",
    "    hotels_merge['Descriptions'][i] = proccessing_data(hotels_merge['Descriptions'][i])\n",
    "  except Exception as ex:\n",
    "    print(hotels_merge['Descriptions'][i])"
   ]
  },
  {
   "cell_type": "code",
   "execution_count": null,
   "metadata": {
    "colab": {
     "base_uri": "https://localhost:8080/"
    },
    "executionInfo": {
     "elapsed": 1167,
     "status": "ok",
     "timestamp": 1670813514446,
     "user": {
      "displayName": "Thể Phạm Đức",
      "userId": "09005724978234100310"
     },
     "user_tz": -420
    },
    "id": "otw4Cnp2toL_",
    "outputId": "341d4f94-5f72-4589-9382-dc9bd30a246c"
   },
   "outputs": [],
   "source": [
    "list_user = hotels_merge['UserID']\n",
    "list_user"
   ]
  },
  {
   "cell_type": "markdown",
   "metadata": {
    "id": "JIdF-ojG5qiC"
   },
   "source": [
    "### Modeling"
   ]
  },
  {
   "cell_type": "code",
   "execution_count": null,
   "metadata": {
    "colab": {
     "base_uri": "https://localhost:8080/",
     "height": 424
    },
    "executionInfo": {
     "elapsed": 365,
     "status": "ok",
     "timestamp": 1670813514709,
     "user": {
      "displayName": "Thể Phạm Đức",
      "userId": "09005724978234100310"
     },
     "user_tz": -420
    },
    "id": "-Mq9_7XVuoTO",
    "outputId": "23e28651-5805-4c19-ed50-c6a8a4479e7e"
   },
   "outputs": [],
   "source": [
    "hotels_merge"
   ]
  },
  {
   "cell_type": "code",
   "execution_count": null,
   "metadata": {
    "id": "DQEv00z-U4-k"
   },
   "outputs": [],
   "source": [
    "vectorizer = TfidfVectorizer(max_features= 4500)\n",
    "descriptions_matrix = vectorizer.fit_transform(hotels['Descriptions'])\n",
    "descriptions_matrix1 = vectorizer.fit_transform(hotels_merge['Descriptions'])\n",
    "cosine_sim = linear_kernel(descriptions_matrix1, descriptions_matrix)\n",
    "\n",
    "def get_recommendations_content_based_with_location(userid, location, num_hotels):\n",
    "  list_recommendation_location = []\n",
    "  list_hotels = []\n",
    "  \n",
    "  for i in range(len(list_user)):\n",
    "    if (list_user[i] == userid):\n",
    "      sim_scores = list(enumerate(cosine_sim[i]))\n",
    "      # Sắp xếp khách sạn dựa trên điểm số tương tự\n",
    "      sim_scores = sorted(sim_scores, key=lambda x: x[1], reverse=True)\n",
    "      # Lấy điểm của 500 khách sạn giống nhất\n",
    "      sim_scores = sim_scores[:500]\n",
    "      hotel_indices = [i[0] for i in sim_scores]\n",
    "      list_hotels = hotels['Name Hotel'].iloc[hotel_indices].to_list()\n",
    "      \n",
    "  for j in range(len(list_hotels)):\n",
    "    for k in range(hotels.shape[0]):\n",
    "      if (hotels.iloc[k,1] == list_hotels[j]) & (hotels.iloc[k,2] == location):\n",
    "        list_recommendation_location.append(list_hotels[j])\n",
    "        break\n",
    "    if len(list_recommendation_location) == num_hotels:\n",
    "      break\n",
    "\n",
    "  return list_recommendation_location"
   ]
  },
  {
   "cell_type": "code",
   "execution_count": null,
   "metadata": {
    "colab": {
     "base_uri": "https://localhost:8080/"
    },
    "executionInfo": {
     "elapsed": 47539,
     "status": "ok",
     "timestamp": 1670854856391,
     "user": {
      "displayName": "Thể Phạm Đức",
      "userId": "09005724978234100310"
     },
     "user_tz": -420
    },
    "id": "3USMjMsywLzT",
    "outputId": "56771925-d57f-4be6-9fd1-0e266b10e7c9"
   },
   "outputs": [],
   "source": [
    "%%time\n",
    "ls = get_recommendations_content_based_with_location(1187, LOCATION[0], 20)\n",
    "ls"
   ]
  },
  {
   "cell_type": "code",
   "execution_count": null,
   "metadata": {
    "colab": {
     "base_uri": "https://localhost:8080/"
    },
    "executionInfo": {
     "elapsed": 78447,
     "status": "ok",
     "timestamp": 1670855120563,
     "user": {
      "displayName": "Thể Phạm Đức",
      "userId": "09005724978234100310"
     },
     "user_tz": -420
    },
    "id": "SoA_DC4Jt4D3",
    "outputId": "96fe19b4-c320-4d7a-f837-aa8452f19a4a"
   },
   "outputs": [],
   "source": [
    "%%time\n",
    "ls = get_recommendations_content_based_with_location(1187, LOCATION[1], 20)\n",
    "ls"
   ]
  },
  {
   "cell_type": "code",
   "execution_count": null,
   "metadata": {
    "colab": {
     "base_uri": "https://localhost:8080/"
    },
    "executionInfo": {
     "elapsed": 15897658,
     "status": "ok",
     "timestamp": 1670854808887,
     "user": {
      "displayName": "Thể Phạm Đức",
      "userId": "09005724978234100310"
     },
     "user_tz": -420
    },
    "id": "bb0-l4eYTZA-",
    "outputId": "06d4e00a-0072-4cc7-8719-58f19ffdbe43"
   },
   "outputs": [],
   "source": [
    "%%time\n",
    "list_content_based = []\n",
    "num_hotels_cb = 25\n",
    "  \n",
    "for i in tqdm(range(hotels_merge.shape[0])):\n",
    "  list_content_based.append(get_recommendations_content_based_with_location(hotels_merge.iloc[i,0], hotels_merge.iloc[i,1], num_hotels_cb))"
   ]
  },
  {
   "cell_type": "code",
   "execution_count": null,
   "metadata": {
    "colab": {
     "base_uri": "https://localhost:8080/",
     "height": 424
    },
    "executionInfo": {
     "elapsed": 107,
     "status": "ok",
     "timestamp": 1670854915238,
     "user": {
      "displayName": "Thể Phạm Đức",
      "userId": "09005724978234100310"
     },
     "user_tz": -420
    },
    "id": "BUR6TtR_i9lJ",
    "outputId": "9013f1bd-b234-4a54-af5c-11a528b032a3"
   },
   "outputs": [],
   "source": [
    "df_content_based = pd.DataFrame(list_user,columns=['UserID'])\n",
    "df_content_based['List Recommendation'] = list_content_based\n",
    "df_content_based"
   ]
  },
  {
   "cell_type": "markdown",
   "metadata": {
    "id": "2YEx1Bg0uB1t"
   },
   "source": [
    "### Evaluating"
   ]
  },
  {
   "cell_type": "code",
   "execution_count": null,
   "metadata": {
    "colab": {
     "base_uri": "https://localhost:8080/"
    },
    "executionInfo": {
     "elapsed": 256261,
     "status": "ok",
     "timestamp": 1670855376806,
     "user": {
      "displayName": "Thể Phạm Đức",
      "userId": "09005724978234100310"
     },
     "user_tz": -420
    },
    "id": "YJNHtJ9UuB1w",
    "outputId": "62b5b71d-eb61-40ae-bd24-89339e6f894f"
   },
   "outputs": [],
   "source": [
    "%%time\n",
    "check_useid = []\n",
    "count = 0\n",
    "for i in range(df_content_based.shape[0]):\n",
    "  for j in range(ratings_test_cb.shape[0]):\n",
    "    if (df_content_based.iloc[i,0] == ratings_test_cb.iloc[j,6]) & (df_content_based.iloc[i,0] not in check_useid):\n",
    "      if (ratings_test_cb.iloc[j,3] in df_content_based.iloc[i,1]):\n",
    "        print(f'i = {i}, hotel = {ratings_test_cb.iloc[j,3]}, list hotels = {df_content_based.iloc[i,1]}')\n",
    "        count += 1\n",
    "        check_useid.append(df_content_based.iloc[i,0])"
   ]
  },
  {
   "cell_type": "code",
   "execution_count": null,
   "metadata": {
    "colab": {
     "base_uri": "https://localhost:8080/"
    },
    "executionInfo": {
     "elapsed": 131,
     "status": "ok",
     "timestamp": 1670855376809,
     "user": {
      "displayName": "Thể Phạm Đức",
      "userId": "09005724978234100310"
     },
     "user_tz": -420
    },
    "id": "x_Z3Z24JuB1y",
    "outputId": "0f3fb24d-9d9a-4e60-eb2d-7782e0cb3d9a"
   },
   "outputs": [],
   "source": [
    "print(f'Accuracy = {round((count/df_content_based.shape[0])*100,2)}')"
   ]
  },
  {
   "cell_type": "markdown",
   "metadata": {
    "id": "T2bPoXVucXdI"
   },
   "source": [
    "### Save"
   ]
  },
  {
   "cell_type": "code",
   "execution_count": null,
   "metadata": {
    "id": "vkyZH0PeuER9"
   },
   "outputs": [],
   "source": [
    "df_content_based.to_csv(f'{PATH}/Result/result_cb_{num_hotels_cb}.csv',index=False)"
   ]
  }
 ],
 "metadata": {
  "colab": {
   "authorship_tag": "ABX9TyNPeyu8uN5BAa7be4E5+1RX",
   "collapsed_sections": [
    "MuYdZPHm5XcP",
    "aQKQZzpFvxMj",
    "Ebx388d3yJK_",
    "0F2zZ76BBU3-",
    "P0GQbuOwoi_v",
    "v1u3ZP3touqZ",
    "cE1cUoZeouql",
    "WN3HsUBJouqo",
    "jlKH2uRUouqr",
    "nRKsyPokouqu",
    "RQTbHX7oeKev",
    "bx9zbzTn6hkx",
    "Osai1Glq5R88",
    "L_p6Y0zL5R89",
    "4XVKJsG45R8-",
    "WK4CR4jW5R9C",
    "ncjeOXuE5R9D",
    "7kQw934_5R9J",
    "2eoOBxLi5R9P",
    "Ov9bwrhz5R9R",
    "23yj8QA55R9S",
    "XY0MQrf5ejj1"
   ],
   "mount_file_id": "1eK3n3PGZi29nLARx41dhts7JveC8Zf6T",
   "provenance": [],
   "toc_visible": true
  },
  "kernelspec": {
   "display_name": "Python 3 (ipykernel)",
   "language": "python",
   "name": "python3"
  },
  "language_info": {
   "codemirror_mode": {
    "name": "ipython",
    "version": 3
   },
   "file_extension": ".py",
   "mimetype": "text/x-python",
   "name": "python",
   "nbconvert_exporter": "python",
   "pygments_lexer": "ipython3",
   "version": "3.9.13"
  }
 },
 "nbformat": 4,
 "nbformat_minor": 1
}
